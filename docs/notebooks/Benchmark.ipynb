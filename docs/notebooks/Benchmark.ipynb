{
 "cells": [
  {
   "cell_type": "markdown",
   "id": "3122a81c-283c-4971-ac2a-c4c65a624ed9",
   "metadata": {},
   "source": [
    "# `quickmt` Benchmark"
   ]
  },
  {
   "cell_type": "code",
   "execution_count": 66,
   "id": "ea56cf71-06ed-4ee0-bfaf-c202fd8c2eea",
   "metadata": {},
   "outputs": [],
   "source": [
    "from time import time\n",
    "\n",
    "import datasets\n",
    "from fire import Fire\n",
    "from quickmt import M2m100Translator, NllbTranslator, OpusmtTranslator, Translator\n",
    "from sacrebleu import BLEU, CHRF, TER"
   ]
  },
  {
   "cell_type": "code",
   "execution_count": 67,
   "id": "1dec07dd-3e56-4c74-b0c9-5ac445041b3e",
   "metadata": {},
   "outputs": [],
   "source": [
    "bleu = BLEU()\n",
    "chrf = CHRF()\n",
    "ter = TER()"
   ]
  },
  {
   "cell_type": "code",
   "execution_count": 68,
   "id": "467bb6fc-6d4d-4c69-a9ba-ff52f2259c76",
   "metadata": {},
   "outputs": [],
   "source": [
    "src_lang = \"zh\"\n",
    "tgt_lang = \"en\"\n",
    "src_lang_flores = \"zho_Hans\"\n",
    "tgt_lang_flores = \"eng_Latn\"\n",
    "\n",
    "quickmt_model_path = f\"../../../quickmt-models/quickmt-{src_lang}-{tgt_lang}\"\n",
    "opusmt_model_path = f\"../../../ct2-models/opus-mt-{src_lang}-{tgt_lang}-ct2\"\n",
    "\n",
    "if src_lang == \"en\" and tgt_lang == \"bn\":\n",
    "    opusmt_model_string = \"sarwarshafee8709809365/opus-mt-en-bn\"\n",
    "elif src_lang == \"en\" and tgt_lang == \"pt\":\n",
    "    opusmt_model_string = f\"Helsinki-NLP/opus-mt-roa-en\"    \n",
    "elif src_lang == \"en\" and tgt_lang == \"ja\":\n",
    "    opusmt_model_string = f\"Helsinki-NLP/opus-mt-{src_lang}-jap\"  \n",
    "elif src_lang == \"pt\" and tgt_lang == \"en\":\n",
    "    opusmt_model_string = f\"Helsinki-NLP/opus-mt-en-roa\"\n",
    "else:\n",
    "    opusmt_model_string = f\"Helsinki-NLP/opus-mt-{src_lang}-{tgt_lang}\"\n",
    "\n",
    "nllb600_model_path = \"../../../ct2-models/nllb-200-distilled-600M-ct2\"\n",
    "nllb1b_model_path = \"../../../ct2-models/nllb-200-distilled-1.3B-ct2\"\n",
    "m2m100_418m_model_path = \"../../../ct2-models/m2m100_418-ct2/\"\n",
    "m2m100_1b_model_path = \"../../../ct2-models/m2m100_1.2B-ct2/\"\n",
    "\n",
    "compute_device = \"cuda\""
   ]
  },
  {
   "cell_type": "code",
   "execution_count": 69,
   "id": "4c7ffe9f-f9bf-4349-843c-4e4308b5d28c",
   "metadata": {
    "scrolled": true
   },
   "outputs": [],
   "source": [
    "try:\n",
    "    flores = datasets.load_dataset(\n",
    "        \"facebook/flores\",\n",
    "        f\"{src_lang_flores}-{tgt_lang_flores}\",\n",
    "    )\n",
    "except:\n",
    "    flores = datasets.load_dataset(\n",
    "        \"facebook/flores\",\n",
    "        f\"{tgt_lang_flores}-{src_lang_flores}\",\n",
    "    )\n",
    "\n",
    "src = []\n",
    "ref = []\n",
    "for i in flores[\"devtest\"]:\n",
    "    src.append(i[f\"sentence_{src_lang_flores}\"])\n",
    "    ref.append(i[f\"sentence_{tgt_lang_flores}\"])"
   ]
  },
  {
   "cell_type": "code",
   "execution_count": 70,
   "id": "366bdc3a-a8e5-4b98-8179-111e53196809",
   "metadata": {
    "scrolled": true
   },
   "outputs": [],
   "source": [
    "with open(f\"flores.{src_lang}\", \"wt\") as myfile:\n",
    "    myfile.write(\"\".join([i + \"\\n\" for i in src]))\n",
    "with open(f\"flores.{tgt_lang}\", \"wt\") as myfile:\n",
    "    myfile.write(\"\".join([i + \"\\n\" for i in ref]))"
   ]
  },
  {
   "cell_type": "markdown",
   "id": "28cc5a3c-4794-4fa4-9048-0fb472d9ecb8",
   "metadata": {},
   "source": [
    "## Quickmt"
   ]
  },
  {
   "cell_type": "code",
   "execution_count": 47,
   "id": "d91cc6a3-7085-4b51-b383-d48dd46b023a",
   "metadata": {},
   "outputs": [],
   "source": [
    "translator = Translator(model_path=quickmt_model_path, device=compute_device)"
   ]
  },
  {
   "cell_type": "code",
   "execution_count": 48,
   "id": "fac1fc9f-27be-43b6-b828-aed93e2c192f",
   "metadata": {},
   "outputs": [
    {
     "data": {
      "text/plain": [
       "'埃胡德·乌尔博士（新斯科舍省哈利法克斯市达尔豪西大学医学教授，加拿大糖尿病协会临床与科学部门教授）提醒，这项研究仍处在早期阶段。'"
      ]
     },
     "execution_count": 48,
     "metadata": {},
     "output_type": "execute_result"
    }
   ],
   "source": [
    "src[1]"
   ]
  },
  {
   "cell_type": "code",
   "execution_count": 49,
   "id": "1067a104-d2a1-4a32-b257-b77019658b5c",
   "metadata": {},
   "outputs": [
    {
     "data": {
      "text/plain": [
       "'Dr. Ehud Ur (Professor of Medicine at Dalhousie University in Halifax, Nova Scotia, and Professor of Clinical and Scientific Unit at Diabetes Canada) cautioned that the study is still in its early stages.'"
      ]
     },
     "execution_count": 49,
     "metadata": {},
     "output_type": "execute_result"
    }
   ],
   "source": [
    "translator(src[1], beam_size=5)"
   ]
  },
  {
   "cell_type": "code",
   "execution_count": 50,
   "id": "4bc9c867-9ce7-42b8-9f40-e5be0298b065",
   "metadata": {},
   "outputs": [
    {
     "data": {
      "text/plain": [
       "'Dr Ehud Urs, professor of medicine at Dalhousie University, Halifax, Nova Scotia, and professor of clinical and scientific departments at Diabetes Canada, notes that the study is still in its early stages.'"
      ]
     },
     "execution_count": 50,
     "metadata": {},
     "output_type": "execute_result"
    }
   ],
   "source": [
    "translator(src[1], sampling_temperature=1.2, beam_size=1, sampling_topk=50, sampling_topp=0.9)"
   ]
  },
  {
   "cell_type": "code",
   "execution_count": 51,
   "id": "62ab5a53-8954-4971-a16e-26915c6ced23",
   "metadata": {},
   "outputs": [
    {
     "data": {
      "text/plain": [
       "1.2637364864349365"
      ]
     },
     "execution_count": 51,
     "metadata": {},
     "output_type": "execute_result"
    }
   ],
   "source": [
    "t1 = time()\n",
    "mt = translator(src)\n",
    "t2 = time()\n",
    "t2-t1"
   ]
  },
  {
   "cell_type": "code",
   "execution_count": 52,
   "id": "97bddcc7-4e9b-4efa-bd7c-c1f71978d9d2",
   "metadata": {},
   "outputs": [],
   "source": [
    "with open(f\"quickmt.{tgt_lang}\", \"wt\") as myfile:\n",
    "    myfile.write(\"\".join([i + \"\\n\" for i in mt]))"
   ]
  },
  {
   "cell_type": "code",
   "execution_count": 53,
   "id": "15dd9cbb-a7f5-42d4-bbac-e759383a5cbd",
   "metadata": {},
   "outputs": [],
   "source": [
    "del translator"
   ]
  },
  {
   "cell_type": "code",
   "execution_count": 54,
   "id": "7a730621-06cf-4c6f-b4eb-12953cf9efe2",
   "metadata": {},
   "outputs": [],
   "source": [
    "comet = ! ~/miniforge3/envs/comet/bin/comet-score -s flores.{src_lang} -r flores.{tgt_lang} -t quickmt.{tgt_lang} --batch_size 32 --only_system"
   ]
  },
  {
   "cell_type": "code",
   "execution_count": 55,
   "id": "a748f74b-6852-409e-a388-9e828746c678",
   "metadata": {},
   "outputs": [
    {
     "data": {
      "text/plain": [
       "{'bleu': 28.81,\n",
       " 'chrf2': 57.97,\n",
       " 'comet22': 86.35000000000001,\n",
       " 'Time (s)': 1.2637364864349365}"
      ]
     },
     "execution_count": 55,
     "metadata": {},
     "output_type": "execute_result"
    }
   ],
   "source": [
    "quickmt_metrics = {\n",
    "    \"bleu\": round(bleu.corpus_score(mt, [ref]).score, 2),\n",
    "    \"chrf2\": round(chrf.corpus_score(mt, [ref]).score, 2),\n",
    "    \"comet22\": 100*float(comet[-1].split(\" \")[-1]),\n",
    "    \"Time (s)\": t2-t1\n",
    "}\n",
    "\n",
    "quickmt_metrics"
   ]
  },
  {
   "cell_type": "markdown",
   "id": "e309f9ed-9a62-470c-9be6-d8923dd9e8b6",
   "metadata": {},
   "source": [
    "## OpusMT\n",
    "\n",
    "Be sure to export the models to `ctranslate2` format first, e.g.\n",
    "\n",
    "```bash\n",
    "ct2-transformers-converter --model Helsinki-NLP/opus-mt-zh-en --output_dir ./ct2-models/opus-mt-zh-en-ct2\n",
    "ct2-transformers-converter --model Helsinki-NLP/opus-mt-en-vi --output_dir ./ct2-models/opus-mt-en-vi-ct2\n",
    "ct2-transformers-converter --model Helsinki-NLP/opus-mt-tc-big-en-ar --output_dir ./ct2-models/opus-mt-en-ar-big-ct2\n",
    "```\n"
   ]
  },
  {
   "cell_type": "code",
   "execution_count": 75,
   "id": "e5a72561-6e4f-4201-92ea-02e21b24d6d6",
   "metadata": {},
   "outputs": [],
   "source": [
    "opusmt_metrics = None \n",
    "\n",
    "translator = OpusmtTranslator(\n",
    "    model_path=opusmt_model_path,\n",
    "    model_string=opusmt_model_string,\n",
    "    device=compute_device,\n",
    ")"
   ]
  },
  {
   "cell_type": "code",
   "execution_count": 76,
   "id": "61ce982e-2f77-41e3-9b55-7c6bfd5e8903",
   "metadata": {},
   "outputs": [
    {
     "data": {
      "text/plain": [
       "'He added, \"We have four months without diabetic rats, but they\\'ve had it.\"'"
      ]
     },
     "execution_count": 76,
     "metadata": {},
     "output_type": "execute_result"
    }
   ],
   "source": [
    "translator(src[0])"
   ]
  },
  {
   "cell_type": "code",
   "execution_count": 77,
   "id": "c7d34ff3-dc62-40ed-a4c0-028693ea8040",
   "metadata": {},
   "outputs": [
    {
     "data": {
      "text/plain": [
       "3.7435803413391113"
      ]
     },
     "execution_count": 77,
     "metadata": {},
     "output_type": "execute_result"
    }
   ],
   "source": [
    "t1 = time()\n",
    "mt = translator(src)\n",
    "t2 = time()\n",
    "t2-t1"
   ]
  },
  {
   "cell_type": "code",
   "execution_count": 78,
   "id": "1e124907-0b74-4d74-9ff8-00861f41c291",
   "metadata": {},
   "outputs": [
    {
     "data": {
      "text/plain": [
       "22.96"
      ]
     },
     "execution_count": 78,
     "metadata": {},
     "output_type": "execute_result"
    }
   ],
   "source": [
    "opusmt_bleu = round(bleu.corpus_score(mt, [ref]).score, 2)\n",
    "opusmt_bleu"
   ]
  },
  {
   "cell_type": "code",
   "execution_count": 79,
   "id": "0ab7a3bf-85d2-4ea2-9958-5d17a6fdce0f",
   "metadata": {},
   "outputs": [
    {
     "data": {
      "text/plain": [
       "53.98"
      ]
     },
     "execution_count": 79,
     "metadata": {},
     "output_type": "execute_result"
    }
   ],
   "source": [
    "opusmt_chrf = round(chrf.corpus_score(mt, [ref]).score, 2)\n",
    "opusmt_chrf"
   ]
  },
  {
   "cell_type": "code",
   "execution_count": 80,
   "id": "76fbc6c0-67aa-4da2-83bc-e919fd9f59d1",
   "metadata": {},
   "outputs": [],
   "source": [
    "del translator"
   ]
  },
  {
   "cell_type": "code",
   "execution_count": 81,
   "id": "a2204c3f-de17-4295-a19d-0758b6a62608",
   "metadata": {},
   "outputs": [],
   "source": [
    "with open(f\"opusmt.{tgt_lang}\", \"wt\") as myfile:\n",
    "    myfile.write(\"\".join([i + \"\\n\" for i in mt]))"
   ]
  },
  {
   "cell_type": "code",
   "execution_count": 82,
   "id": "bcb6a52e-3a8f-4acd-a363-1c7aeaeab033",
   "metadata": {},
   "outputs": [],
   "source": [
    "comet = ! ~/miniforge3/envs/comet/bin/comet-score -s flores.{src_lang} -r flores.{tgt_lang} -t opusmt.{tgt_lang} --batch_size 32 --only_system"
   ]
  },
  {
   "cell_type": "code",
   "execution_count": 83,
   "id": "2319e54f-376d-4107-b3ae-5a7615424b37",
   "metadata": {},
   "outputs": [
    {
     "data": {
      "text/plain": [
       "{'bleu': 22.96,\n",
       " 'chrf2': 53.98,\n",
       " 'comet22': 84.59,\n",
       " 'Time (s)': 3.7435803413391113}"
      ]
     },
     "execution_count": 83,
     "metadata": {},
     "output_type": "execute_result"
    }
   ],
   "source": [
    "opusmt_metrics = {\n",
    "    \"bleu\": opusmt_bleu,\n",
    "    \"chrf2\": opusmt_chrf,\n",
    "    \"comet22\": 100*float(comet[-1].split(\" \")[-1]),\n",
    "    \"Time (s)\": t2-t1\n",
    "}\n",
    "\n",
    "opusmt_metrics"
   ]
  },
  {
   "cell_type": "code",
   "execution_count": null,
   "id": "61c94361-5767-4a7e-ac45-626c1ebcab29",
   "metadata": {},
   "outputs": [],
   "source": []
  },
  {
   "cell_type": "markdown",
   "id": "f5e47e29-c72e-4f28-9bc6-4165b7dca0fb",
   "metadata": {},
   "source": [
    "## NLLB-600M\n",
    "\n",
    "Be sure to export the models to `ctranslate2` format first, e.g.\n",
    "\n",
    "```bash\n",
    "ct2-transformers-converter --model facebook/nllb-200-distilled-600M --output_dir ../ct2-models/nllb-200-distilled-600M-ct2\n",
    "```"
   ]
  },
  {
   "cell_type": "code",
   "execution_count": 24,
   "id": "e5aded02-1c88-4d75-8c4f-d1cda735df71",
   "metadata": {},
   "outputs": [],
   "source": [
    "translator = NllbTranslator(model_path=nllb600_model_path, device=compute_device)"
   ]
  },
  {
   "cell_type": "code",
   "execution_count": 25,
   "id": "b65c1ecd-d7a8-48b6-9ee0-747a9413b71a",
   "metadata": {},
   "outputs": [],
   "source": [
    "t1 = time()\n",
    "mt = translator(src, src_lang=src_lang_flores, tgt_lang=tgt_lang_flores)\n",
    "t2 = time()"
   ]
  },
  {
   "cell_type": "code",
   "execution_count": 26,
   "id": "fb638266-ec56-479f-a70e-29fe32147e78",
   "metadata": {},
   "outputs": [
    {
     "data": {
      "text/plain": [
       "24.1210675239563"
      ]
     },
     "execution_count": 26,
     "metadata": {},
     "output_type": "execute_result"
    }
   ],
   "source": [
    "t2-t1"
   ]
  },
  {
   "cell_type": "code",
   "execution_count": 27,
   "id": "e7de747c-4ef9-4c04-b99f-8e8a4f8514c5",
   "metadata": {},
   "outputs": [],
   "source": [
    "del translator"
   ]
  },
  {
   "cell_type": "code",
   "execution_count": 28,
   "id": "5ba7619f-89c2-4a0d-a54c-4c41b66f5f48",
   "metadata": {},
   "outputs": [
    {
     "data": {
      "text/plain": [
       "39.06"
      ]
     },
     "execution_count": 28,
     "metadata": {},
     "output_type": "execute_result"
    }
   ],
   "source": [
    "nllb_600m_bleu = round(bleu.corpus_score(mt, [ref]).score, 2)\n",
    "nllb_600m_bleu"
   ]
  },
  {
   "cell_type": "code",
   "execution_count": 29,
   "id": "54de6bac-2ad9-4f6a-80db-031ceef45c2d",
   "metadata": {},
   "outputs": [
    {
     "data": {
      "text/plain": [
       "57.27"
      ]
     },
     "execution_count": 29,
     "metadata": {},
     "output_type": "execute_result"
    }
   ],
   "source": [
    "nllb_600m_chrf = round(chrf.corpus_score(mt, [ref]).score, 2)\n",
    "nllb_600m_chrf"
   ]
  },
  {
   "cell_type": "code",
   "execution_count": 30,
   "id": "ea20271c-abd5-4279-adc3-749644635e7b",
   "metadata": {},
   "outputs": [],
   "source": [
    "with open(f\"nllb-600m.{tgt_lang}\", \"wt\") as myfile:\n",
    "    myfile.write(\"\".join([i + \"\\n\" for i in mt]))"
   ]
  },
  {
   "cell_type": "code",
   "execution_count": 31,
   "id": "3003ac99-9ae9-49e5-85d9-11210b7d1de9",
   "metadata": {},
   "outputs": [],
   "source": [
    "comet = ! ~/miniforge3/envs/comet/bin/comet-score -s flores.{src_lang} -r flores.{tgt_lang} -t nllb-600m.{tgt_lang} --batch_size 32 --only_system"
   ]
  },
  {
   "cell_type": "code",
   "execution_count": 32,
   "id": "308eac41-d7b7-4b93-b753-7c1c2a6f56e4",
   "metadata": {},
   "outputs": [
    {
     "name": "stdout",
     "output_type": "stream",
     "text": [
      "{'bleu': 39.06, 'chrf2': 57.27, 'comet22': 86.95, 'Time (s)': 24.1210675239563}\n"
     ]
    }
   ],
   "source": [
    "nllb6M_metrics = {\n",
    "    \"bleu\": nllb_600m_bleu,\n",
    "    \"chrf2\": nllb_600m_chrf,\n",
    "    \"comet22\": 100*float(comet[-1].split(\" \")[-1]),\n",
    "    \"Time (s)\": t2-t1\n",
    "}\n",
    "print(nllb6M_metrics)"
   ]
  },
  {
   "cell_type": "markdown",
   "id": "28072ed5-f0db-4e07-aeeb-adbe236cd6a5",
   "metadata": {},
   "source": [
    "## NLLB-1.3B\n",
    "\n",
    "Be sure to export the models to `ctranslate2` format first, e.g.\n",
    "\n",
    "```bash\n",
    "ct2-transformers-converter --model facebook/nllb-200-distilled-1.3B --output_dir ../ct2-models/nllb-200-distilled-1.3B-ct2\n",
    "```"
   ]
  },
  {
   "cell_type": "code",
   "execution_count": 33,
   "id": "e42d0d09-d5a6-49c9-b976-b441916ca173",
   "metadata": {},
   "outputs": [],
   "source": [
    "translator = NllbTranslator(model_path=nllb1b_model_path, device=compute_device)"
   ]
  },
  {
   "cell_type": "code",
   "execution_count": 34,
   "id": "6eba06a2-1852-40e1-9fdf-67661b907fed",
   "metadata": {},
   "outputs": [],
   "source": [
    "t1 = time()\n",
    "mt = translator(src, src_lang=src_lang_flores, tgt_lang=tgt_lang_flores)\n",
    "t2 = time()"
   ]
  },
  {
   "cell_type": "code",
   "execution_count": 35,
   "id": "fd7ed934-6e96-41a0-ba66-c0eafcef3e98",
   "metadata": {},
   "outputs": [
    {
     "data": {
      "text/plain": [
       "41.27"
      ]
     },
     "execution_count": 35,
     "metadata": {},
     "output_type": "execute_result"
    }
   ],
   "source": [
    "nllb_1b_bleu = round(bleu.corpus_score(mt, [ref]).score, 2)\n",
    "nllb_1b_bleu"
   ]
  },
  {
   "cell_type": "code",
   "execution_count": 36,
   "id": "02d98eed-4b57-4538-8377-1fb061dc6cbf",
   "metadata": {},
   "outputs": [
    {
     "data": {
      "text/plain": [
       "59.04"
      ]
     },
     "execution_count": 36,
     "metadata": {},
     "output_type": "execute_result"
    }
   ],
   "source": [
    "nllb_1b_chrf = round(chrf.corpus_score(mt, [ref]).score, 2)\n",
    "nllb_1b_chrf"
   ]
  },
  {
   "cell_type": "code",
   "execution_count": 37,
   "id": "176cdc04-130f-4c12-82ae-04ed54bc22b6",
   "metadata": {},
   "outputs": [],
   "source": [
    "with open(f\"nllb-1.3b.{tgt_lang}\", \"wt\") as myfile:\n",
    "    myfile.write(\"\".join([i + \"\\n\" for i in mt]))"
   ]
  },
  {
   "cell_type": "code",
   "execution_count": 38,
   "id": "45237b2a-0603-4034-a4e5-adf5c35b3d30",
   "metadata": {},
   "outputs": [],
   "source": [
    "del translator"
   ]
  },
  {
   "cell_type": "code",
   "execution_count": 39,
   "id": "5ddc5ce4-2af7-43f0-a3a1-0bd0be747e79",
   "metadata": {},
   "outputs": [],
   "source": [
    "comet = ! ~/miniforge3/envs/comet/bin/comet-score -s flores.{src_lang} -r flores.{tgt_lang} -t nllb-1.3b.{tgt_lang} --batch_size 16 --only_system"
   ]
  },
  {
   "cell_type": "code",
   "execution_count": 40,
   "id": "217aeb14-5f2c-488a-aef4-f46224cc99e0",
   "metadata": {},
   "outputs": [
    {
     "name": "stdout",
     "output_type": "stream",
     "text": [
      "{'bleu': 41.27, 'chrf2': 59.04, 'comet22': 88.11, 'Time (s)': 42.2981960773468}\n"
     ]
    }
   ],
   "source": [
    "nllb1B_metrics = {\n",
    "    \"bleu\": nllb_1b_bleu,\n",
    "    \"chrf2\": nllb_1b_chrf,\n",
    "    \"comet22\": 100*float(comet[-1].split(\" \")[-1]),\n",
    "    \"Time (s)\": t2-t1\n",
    "}\n",
    "print(nllb1B_metrics)\n"
   ]
  },
  {
   "cell_type": "code",
   "execution_count": null,
   "id": "8324eb91-05c4-4919-838d-409c83a011c4",
   "metadata": {},
   "outputs": [],
   "source": []
  },
  {
   "cell_type": "markdown",
   "id": "96d99538-8f7b-44ea-9d16-0026c162cc3f",
   "metadata": {},
   "source": [
    "## M2M100-418M\n",
    "\n",
    "Be sure to export the models to `ctranslate2` format first, e.g.\n",
    "\n",
    "```bash\n",
    "ct2-transformers-converter --model facebook/m2m100_418M --output_dir ../ct2-models/m2m100_418-ct2/\n",
    "ct2-transformers-converter --model facebook/m2m100_1.2B --output_dir ../ct2-models/m2m100_1.2B-ct2/\n",
    "```"
   ]
  },
  {
   "cell_type": "code",
   "execution_count": 41,
   "id": "774bf94d-25a4-4988-8dbe-e6a4203e1542",
   "metadata": {},
   "outputs": [],
   "source": [
    "translator = M2m100Translator(model_path=m2m100_418m_model_path, device=compute_device)"
   ]
  },
  {
   "cell_type": "code",
   "execution_count": 42,
   "id": "b1f71877-1238-411a-aba7-f5c0709d46c6",
   "metadata": {},
   "outputs": [],
   "source": [
    "t1 = time()\n",
    "mt = translator(src, src_lang=src_lang, tgt_lang=tgt_lang)\n",
    "t2 = time()"
   ]
  },
  {
   "cell_type": "code",
   "execution_count": 43,
   "id": "34be7063-9fdb-404c-a760-d7b4f7f3d3e6",
   "metadata": {},
   "outputs": [],
   "source": [
    "with open(f\"m2m100-418m.{tgt_lang}\", \"wt\") as myfile:\n",
    "    myfile.write(\"\".join([i + \"\\n\" for i in mt]))"
   ]
  },
  {
   "cell_type": "code",
   "execution_count": 44,
   "id": "960c228a-436e-4e91-86c4-235a4aa35b61",
   "metadata": {},
   "outputs": [],
   "source": [
    "comet = ! ~/miniforge3/envs/comet/bin/comet-score -s flores.{src_lang} -r flores.{tgt_lang} -t m2m100-418m.{tgt_lang} --batch_size 32 --only_system"
   ]
  },
  {
   "cell_type": "code",
   "execution_count": 45,
   "id": "b132a8af-5944-4481-9f4e-ba7fc48a21af",
   "metadata": {},
   "outputs": [
    {
     "name": "stdout",
     "output_type": "stream",
     "text": [
      "{'bleu': 33.95, 'chrf2': 52.82, 'comet22': 82.53, 'Time (s)': 20.321752309799194}\n"
     ]
    }
   ],
   "source": [
    "m2m4M_metrics = {\n",
    "    \"bleu\": round(bleu.corpus_score(mt, [ref]).score, 2),\n",
    "    \"chrf2\": round(chrf.corpus_score(mt, [ref]).score, 2),\n",
    "    \"comet22\": 100*float(comet[-1].split(\" \")[-1]),\n",
    "    \"Time (s)\": t2-t1\n",
    "}\n",
    "print(m2m4M_metrics)\n"
   ]
  },
  {
   "cell_type": "code",
   "execution_count": null,
   "id": "a47c7d7e-421e-4f08-84ee-10f12eeb5ef3",
   "metadata": {},
   "outputs": [],
   "source": []
  },
  {
   "cell_type": "markdown",
   "id": "425cff99-a65b-4df2-8e8a-b265cc148375",
   "metadata": {},
   "source": [
    "## M2M100-1.2B\n",
    "\n",
    "Be sure to export the models to `ctranslate2` format first, e.g.\n",
    "\n",
    "```bash\n",
    "ct2-transformers-converter --model facebook/m2m100_1.2B --output_dir ../ct2-models/m2m100_1.2B-ct2/\n",
    "```"
   ]
  },
  {
   "cell_type": "code",
   "execution_count": 46,
   "id": "74b74474-235d-4406-aecb-5c69f98461f7",
   "metadata": {},
   "outputs": [],
   "source": [
    "translator = M2m100Translator(model_path=m2m100_1b_model_path, device=compute_device)"
   ]
  },
  {
   "cell_type": "code",
   "execution_count": 47,
   "id": "e28d0645-3b9f-4596-926d-1e1188a86690",
   "metadata": {},
   "outputs": [],
   "source": [
    "t1 = time()\n",
    "mt = translator(src, src_lang=src_lang, tgt_lang=tgt_lang)\n",
    "t2 = time()"
   ]
  },
  {
   "cell_type": "code",
   "execution_count": 48,
   "id": "fa6864f8-87a4-4437-9e8c-eba3dfaf3414",
   "metadata": {},
   "outputs": [],
   "source": [
    "with open(f\"m2m100-1.2B.{tgt_lang}\", \"wt\") as myfile:\n",
    "    myfile.write(\"\".join([i + \"\\n\" for i in mt]))"
   ]
  },
  {
   "cell_type": "code",
   "execution_count": 49,
   "id": "dd26294a-739d-4a11-8606-e0a8a79f012b",
   "metadata": {},
   "outputs": [],
   "source": [
    "comet = ! ~/miniforge3/envs/comet/bin/comet-score -s flores.{src_lang} -r flores.{tgt_lang} -t m2m100-1.2B.{tgt_lang} --batch_size 32 --only_system"
   ]
  },
  {
   "cell_type": "code",
   "execution_count": 50,
   "id": "ea30e55f-6bec-474f-b046-24f6b0686c74",
   "metadata": {},
   "outputs": [
    {
     "name": "stdout",
     "output_type": "stream",
     "text": [
      "{'bleu': 39.46, 'chrf2': 57.45, 'comet22': 86.56, 'Time (s)': 38.65287685394287}\n"
     ]
    }
   ],
   "source": [
    "m2m1B_metrics = {\n",
    "    \"bleu\": round(bleu.corpus_score(mt, [ref]).score, 2),\n",
    "    \"chrf2\": round(chrf.corpus_score(mt, [ref]).score, 2),\n",
    "    \"comet22\": 100*float(comet[-1].split(\" \")[-1]),\n",
    "    \"Time (s)\": t2-t1\n",
    "}\n",
    "print(m2m1B_metrics)\n"
   ]
  },
  {
   "cell_type": "code",
   "execution_count": null,
   "id": "c80591df-11ee-4bae-b84a-334909c26354",
   "metadata": {},
   "outputs": [],
   "source": []
  },
  {
   "cell_type": "code",
   "execution_count": 51,
   "id": "4f050e36-3030-4cdb-8883-a5a41c36a237",
   "metadata": {},
   "outputs": [
    {
     "name": "stdout",
     "output_type": "stream",
     "text": [
      "\n",
      "## en -> vi flores-devtest metrics\n",
      "\n",
      "|                                  |   bleu |   chrf2 |   comet22 |   Time (s) |\n",
      "|:---------------------------------|-------:|--------:|----------:|-----------:|\n",
      "| quickmt/quickmt-en-vi            |  43.68 |   60.75 |     87.52 |       1.5  |\n",
      "| Helsinki-NLP/opus-mt-en-vi       |  27.57 |   46.45 |     76.22 |       4.67 |\n",
      "| facebook/nllb-200-distilled-600M |  39.06 |   57.27 |     86.95 |      24.12 |\n",
      "| facebook/nllb-200-distilled-1.3B |  41.27 |   59.04 |     88.11 |      42.3  |\n",
      "| facebook/m2m100_418M             |  33.95 |   52.82 |     82.53 |      20.32 |\n",
      "| facebook/m2m100_1.2B             |  39.46 |   57.45 |     86.56 |      38.65 |\n"
     ]
    }
   ],
   "source": [
    "import pandas as pd\n",
    "\n",
    "if opusmt_metrics:\n",
    "    df = pd.DataFrame({f\"quickmt/quickmt-{src_lang}-{tgt_lang}\":quickmt_metrics,\n",
    "    opusmt_model_string: opusmt_metrics,\n",
    "    \"facebook/nllb-200-distilled-600M\": nllb6M_metrics,\n",
    "    \"facebook/nllb-200-distilled-1.3B\": nllb1B_metrics,\n",
    "    \"facebook/m2m100_418M\": m2m4M_metrics,\n",
    "    \"facebook/m2m100_1.2B\":m2m1B_metrics})\n",
    "else:\n",
    "    df = pd.DataFrame({f\"quickmt-{src_lang}-{tgt_lang}\":quickmt_metrics,\n",
    "    \"facebook/nllb-200-distilled-600M\": nllb6M_metrics,\n",
    "    \"facebook/nllb-200-distilled-1.3B\": nllb1B_metrics,\n",
    "    \"facebook/m2m100_418M\": m2m4M_metrics,\n",
    "    \"facebook/m2m100_1.2B\":m2m1B_metrics})\n",
    "\n",
    "df = df.apply(lambda x: [f\"{i:.2f}\" for i in x])\n",
    "\n",
    "print(f\"\\n## {src_lang} -> {tgt_lang} flores-devtest metrics\")\n",
    "print()\n",
    "\n",
    "print(df.T.to_markdown())"
   ]
  },
  {
   "cell_type": "markdown",
   "id": "4a1a6552-5f8e-4799-a509-813e07be0e6b",
   "metadata": {},
   "source": [
    "## Results"
   ]
  },
  {
   "cell_type": "markdown",
   "id": "b628124b-dfdb-44ca-aba0-0050192b4603",
   "metadata": {},
   "source": [
    "## en -> vi flores-devtest metrics\n",
    "\n",
    "|                                  |   bleu |   chrf2 |   comet22 |   Time (s) |\n",
    "|:---------------------------------|-------:|--------:|----------:|-----------:|\n",
    "| quickmt/quickmt-en-vi            |  43.68 |   60.75 |     87.52 |       1.5  |\n",
    "| Helsinki-NLP/opus-mt-en-vi       |  27.57 |   46.45 |     76.22 |       4.67 |\n",
    "| facebook/nllb-200-distilled-600M |  39.06 |   57.27 |     86.95 |      24.12 |\n",
    "| facebook/nllb-200-distilled-1.3B |  41.27 |   59.04 |     88.11 |      42.3  |\n",
    "| facebook/m2m100_418M             |  33.95 |   52.82 |     82.53 |      20.32 |\n",
    "| facebook/m2m100_1.2B             |  39.46 |   57.45 |     86.56 |      38.65 |\n",
    "\n",
    "## vi -> en flores-devtest metrics\n",
    "\n",
    "|                                  |   bleu |   chrf2 |   comet22 |   Time (s) |\n",
    "|:---------------------------------|-------:|--------:|----------:|-----------:|\n",
    "| quickmt/quickmt-vi-en            |  37.6  |   62.86 |     87.21 |       1.27 |\n",
    "| Helsinki-NLP/opus-mt-vi-en       |  25.93 |   53.32 |     81.77 |       3.45 |\n",
    "| facebook/nllb-200-distilled-600M |  34.99 |   60.35 |     86.13 |      24.71 |\n",
    "| facebook/nllb-200-distilled-1.3B |  37.67 |   62.64 |     87.12 |      36.8  |\n",
    "| facebook/m2m100_418M             |  27.63 |   55.39 |     82.79 |      17.61 |\n",
    "| facebook/m2m100_1.2B             |  32.79 |   59.01 |     85.58 |      33.98 |\n",
    "\n",
    "\n",
    "## en -> fa flores-devtest metrics\n",
    "\n",
    "|                                  |   bleu |   chrf2 |   comet22 |   Time (s) |\n",
    "|:---------------------------------|-------:|--------:|----------:|-----------:|\n",
    "| quickmt-en-fa                    |  26.22 |   54.08 |     85.79 |       1.18 |\n",
    "| facebook/nllb-200-distilled-600M |  20.59 |   49.58 |     84.44 |      22.77 |\n",
    "| facebook/nllb-200-distilled-1.3B |  21.85 |   50.88 |     86.46 |      39.55 |\n",
    "| facebook/m2m100_418M             |  19.95 |   48.23 |     81.46 |      19.71 |\n",
    "| facebook/m2m100_1.2B             |  16.97 |   45.22 |     78.93 |      38.79 |\n",
    "\n",
    "## fa -> en flores-devtest metrics\n",
    "\n",
    "|                                  |   bleu |   chrf2 |   comet22 |   Time (s) |\n",
    "|:---------------------------------|-------:|--------:|----------:|-----------:|\n",
    "| quickmt-fa-en                    |  37.57 |   63.37 |     87.76 |       1.16 |\n",
    "| facebook/nllb-200-distilled-600M |  34.79 |   60.86 |     86.49 |      21.17 |\n",
    "| facebook/nllb-200-distilled-1.3B |  37.91 |   63.39 |     87.82 |      36.9  |\n",
    "| facebook/m2m100_418M             |  27.2  |   55.82 |     82.9  |      18.24 |\n",
    "| facebook/m2m100_1.2B             |  29.12 |   56.39 |     83.5  |      35.14 |\n",
    "\n",
    "## en -> id flores-devtest metrics\n",
    "\n",
    "|                                  |   bleu |   chrf2 |   comet22 |   Time (s) |\n",
    "|:---------------------------------|-------:|--------:|----------:|-----------:|\n",
    "| quickmt/quickmt-en-id            |  48.69 |   71.95 |     91.02 |       1.13 |\n",
    "| Helsinki-NLP/opus-mt-en-id       |  39.71 |   66.5  |     88.24 |       3.08 |\n",
    "| facebook/nllb-200-distilled-600M |  43.74 |   69.06 |     90.47 |      19.16 |\n",
    "| facebook/nllb-200-distilled-1.3B |  46.14 |   70.7  |     91.39 |      33.09 |\n",
    "| facebook/m2m100_418M             |  36.77 |   63.8  |     87.13 |      16.93 |\n",
    "| facebook/m2m100_1.2B             |  42.62 |   68.04 |     89.76 |      32.4  |\n",
    "\n",
    "## id -> en flores-devtest metrics\n",
    "\n",
    "|                                  |   bleu |   chrf2 |   comet22 |   Time (s) |\n",
    "|:---------------------------------|-------:|--------:|----------:|-----------:|\n",
    "| quickmt/quickmt-id-en            |  44.5  |   68.78 |     89.35 |       1.19 |\n",
    "| Helsinki-NLP/opus-mt-id-en       |  34.62 |   62.07 |     86.31 |       3.35 |\n",
    "| facebook/nllb-200-distilled-600M |  42.26 |   66.89 |     88.67 |      21.13 |\n",
    "| facebook/nllb-200-distilled-1.3B |  45.25 |   68.92 |     89.51 |      36.01 |\n",
    "| facebook/m2m100_418M             |  33.14 |   60.91 |     84.85 |      17.37 |\n",
    "| facebook/m2m100_1.2B             |  39.1  |   65.07 |     87.55 |      33.41 |\n",
    "\n",
    "## en -> bn flores-devtest metrics\n",
    "\n",
    "|                                      |   bleu |   chrf2 |   comet22 |   Time (s) |\n",
    "|:-------------------------------------|-------:|--------:|----------:|-----------:|\n",
    "| quickmt/quickmt-en-bn                |  19.27 |   53.34 |     84.68 |       1.17 |\n",
    "| sarwarshafee8709809365/opus-mt-en-bn |   1.48 |   21.6  |     49.57 |      10.01 |\n",
    "| facebook/nllb-200-distilled-600M     |  15.64 |   50.65 |     85.69 |      28.01 |\n",
    "| facebook/nllb-200-distilled-1.3B     |  17.31 |   52.17 |     86.45 |      46.94 |\n",
    "| facebook/m2m100_418M                 |   7.39 |   36.54 |     70.44 |      44.3  |\n",
    "| facebook/m2m100_1.2B                 |  12    |   45.19 |     81.92 |      61.97 |\n",
    "\n",
    "## bn -> en flores-devtest metrics\n",
    "\n",
    "|                                  |   bleu |   chrf2 |   comet22 |   Time (s) |\n",
    "|:---------------------------------|-------:|--------:|----------:|-----------:|\n",
    "| quickmt/quickmt-bn-en            |  32.91 |   59.69 |     86.99 |       1.37 |\n",
    "| Helsink-NLP/opus-mt-bn-en        |  17.89 |   45.94 |     78.62 |       3.45 |\n",
    "| facebook/nllb-200-distilled-600M |  33.51 |   59.73 |     87.48 |      21.01 |\n",
    "| facebook/nllb-200-distilled-1.3B |  36.4  |   62.18 |     88.61 |      36.62 |\n",
    "| facebook/m2m100_418M             |  23.84 |   52.67 |     82.94 |      20.86 |\n",
    "| facebook/m2m100_1.2B             |  27.26 |   54.86 |     84.28 |      36.28 |\n",
    "\n",
    "## pt -> en flores-devtest metrics\n",
    "\n",
    "|                                  |   bleu |   chrf2 |   comet22 |   Time (s) |\n",
    "|:---------------------------------|-------:|--------:|----------:|-----------:|\n",
    "| quickmt/quickmt-pt-en            |  48.67 |   71.47 |     89.09 |       1.24 |\n",
    "| Helsink-NLP/opus-mt-roa-en       |  45.1  |   69.43 |     88.22 |       3.69 |\n",
    "| facebook/nllb-200-distilled-600M |  48.77 |   71.3  |     89.2  |      21.42 |\n",
    "| facebook/nllb-200-distilled-1.3B |  51.02 |   72.83 |     89.78 |      36.86 |\n",
    "| facebook/m2m100_418M             |  40.01 |   66.14 |     86.01 |      17.8  |\n",
    "| facebook/m2m100_1.2B             |  45.69 |   69.52 |     88.3  |      34.42 |\n",
    "\n",
    "\n",
    "## en -> ru flores-devtest metrics\n",
    "\n",
    "|                                  |   bleu |   chrf2 |   comet22 |   Time (s) |\n",
    "|:---------------------------------|-------:|--------:|----------:|-----------:|\n",
    "| quickmt/quickmt-en-ru            |  32.29 |   59.12 |     87.77 |       1.43 |\n",
    "| Helsink-NLP/opus-mt-en-ru        |  26.59 |   54.91 |     85.26 |       4.37 |\n",
    "| facebook/nllb-200-distilled-600M |  28.79 |   56.58 |     87.58 |      26.71 |\n",
    "| facebook/nllb-200-distilled-1.3B |  31.5  |   58.63 |     89.26 |      46.57 |\n",
    "| facebook/m2m100_418M             |  23.16 |   51.73 |     82.12 |      20.51 |\n",
    "| facebook/m2m100_1.2B             |  28.88 |   56.61 |     87    |      41.15 |\n",
    "\n",
    "\n",
    "## ru -> en flores-devtest metrics\n",
    "\n",
    "|                                  |   bleu |   chrf2 |   comet22 |   Time (s) |\n",
    "|:---------------------------------|-------:|--------:|----------:|-----------:|\n",
    "| quickmt/quickmt-ru-en            |  33.9  |   61.63 |     85.7  |       1.31 |\n",
    "| Helsink-NLP/opus-mt-ru-en        |  30.04 |   58.23 |     83.97 |       3.72 |\n",
    "| facebook/nllb-200-distilled-600M |  34.59 |   61.26 |     85.88 |      21.93 |\n",
    "| facebook/nllb-200-distilled-1.3B |  36.99 |   63.04 |     86.59 |      38.12 |\n",
    "| facebook/m2m100_418M             |  26.62 |   56.31 |     81.77 |      18.73 |\n",
    "| facebook/m2m100_1.2B             |  32.01 |   60.3  |     85.01 |      35.99 |\n",
    "\n",
    "\n",
    "## es -> en flores-devtest metrics\n",
    "\n",
    "|                                  |   bleu |   chrf2 |   comet22 |   Time (s) |\n",
    "|:---------------------------------|-------:|--------:|----------:|-----------:|\n",
    "| quickmt/quickmt-es-en            |  28.64 |   58.61 |     86.11 |       1.33 |\n",
    "| Helsink-NLP/opus-mt-es-en        |  27.62 |   58.38 |     86.01 |       3.67 |\n",
    "| facebook/nllb-200-distilled-600M |  30.02 |   59.71 |     86.55 |      21.99 |\n",
    "| facebook/nllb-200-distilled-1.3B |  31.58 |   60.96 |     87.25 |      38.2  |\n",
    "| facebook/m2m100_418M             |  22.85 |   55.04 |     82.9  |      18.83 |\n",
    "| facebook/m2m100_1.2B             |  26.84 |   57.69 |     85.47 |      36.22 |\n",
    "\n",
    "\n",
    "## en -> es flores-devtest metrics\n",
    "\n",
    "|                                  |   bleu |   chrf2 |   comet22 |   Time (s) |\n",
    "|:---------------------------------|-------:|--------:|----------:|-----------:|\n",
    "| quickmt/quickmt-en-es            |  26.64 |   55.12 |     85.15 |       1.41 |\n",
    "| Helsink-NLP/opus-mt-en-es        |  26.56 |   55.01 |     84.92 |       3.79 |\n",
    "| facebook/nllb-200-distilled-600M |  27.2  |   55.68 |     85.82 |      24.12 |\n",
    "| facebook/nllb-200-distilled-1.3B |  28.06 |   56.47 |     86.55 |      42.12 |\n",
    "| facebook/m2m100_418M             |  22.48 |   51.72 |     81.05 |      19.65 |\n",
    "| facebook/m2m100_1.2B             |  25.75 |   54.38 |     84.58 |      38.47 |\n",
    "\n",
    "## en -> hi flores-devtest metrics\n",
    "\n",
    "|                                  |   bleu |   chrf2 |   comet22 |   Time (s) |\n",
    "|:---------------------------------|-------:|--------:|----------:|-----------:|\n",
    "| quickmt/quickmt-en-hi            |  35.94 |   59.92 |     79.06 |       1.31 |\n",
    "| Helsink-NLP/opus-mt-en-hi        |  13.53 |   35.51 |     60.13 |       3.81 |\n",
    "| facebook/nllb-200-distilled-600M |  31.13 |   56.66 |     80.26 |      24.92 |\n",
    "| facebook/nllb-200-distilled-1.3B |  32.43 |   57.64 |     81.06 |      43.26 |\n",
    "| facebook/m2m100_418M             |  26.17 |   51.24 |     74.65 |      25.04 |\n",
    "| facebook/m2m100_1.2B             |  26.57 |   51.88 |     76.09 |      46.5  |\n",
    "\n",
    "## hi -> en flores-devtest metrics\n",
    "\n",
    "|                                  |   bleu |   chrf2 |   comet22 |   Time (s) |\n",
    "|:---------------------------------|-------:|--------:|----------:|-----------:|\n",
    "| quickmt/quickmt-hi-en            |  39.9  |   65.04 |     88.77 |       0.98 |\n",
    "| Helsink-NLP/opus-mt-hi-en        |  18.83 |   45.9  |     75.81 |       4.38 |\n",
    "| facebook/nllb-200-distilled-600M |  38.8  |   64.29 |     88.87 |      22.49 |\n",
    "| facebook/nllb-200-distilled-1.3B |  41.71 |   66.67 |     89.69 |      38.91 |\n",
    "| facebook/m2m100_418M             |  29.81 |   57.66 |     85    |      19.65 |\n",
    "| facebook/m2m100_1.2B             |  33.79 |   60.21 |     86.3  |      38.33 |\n",
    "\n",
    "## en -> it flores-devtest metrics\n",
    "\n",
    "|                                  |   bleu |   chrf2 |   comet22 |   Time (s) |\n",
    "|:---------------------------------|-------:|--------:|----------:|-----------:|\n",
    "| quickmt/quickmt-en-it            |  30.52 |   59.72 |     87.55 |       1.06 |\n",
    "| Helsink-NLP/opus-mt-en-it        |  27.58 |   57.66 |     85.1  |       4.42 |\n",
    "| facebook/nllb-200-distilled-600M |  28.58 |   58.3  |     87.3  |      24.93 |\n",
    "| facebook/nllb-200-distilled-1.3B |  30.92 |   59.89 |     88.52 |      43.8  |\n",
    "| facebook/m2m100_418M             |  23.81 |   54.34 |     82.64 |      20.34 |\n",
    "| facebook/m2m100_1.2B             |  27.22 |   57.19 |     86.23 |      39.98 |\n",
    "\n",
    "## it -> en flores-devtest metrics\n",
    "\n",
    "|                                  |   bleu |   chrf2 |   comet22 |   Time (s) |\n",
    "|:---------------------------------|-------:|--------:|----------:|-----------:|\n",
    "| quickmt/quickmt-it-en            |  32.1  |   61.48 |     87.31 |       1.04 |\n",
    "| Helsink-NLP/opus-mt-it-en        |  29.48 |   59.96 |     86.59 |       4.39 |\n",
    "| facebook/nllb-200-distilled-600M |  33.49 |   61.97 |     87.39 |      22.16 |\n",
    "| facebook/nllb-200-distilled-1.3B |  34.97 |   63.23 |     88.14 |      38.26 |\n",
    "| facebook/m2m100_418M             |  25.92 |   56.94 |     83.14 |      18.61 |\n",
    "| facebook/m2m100_1.2B             |  30.81 |   60.43 |     86.43 |      36.28 |\n",
    "\n",
    "## en -> ja flores-devtest metrics\n",
    "\n",
    "|                                  |   chrf2 |   comet22 |   Time (s) |\n",
    "|:---------------------------------|--------:|----------:|-----------:|\n",
    "| quickmt/quickmt-en-ja            |   42.04 |     89.08 |       1.38 |\n",
    "| Helsink-NLP/opus-mt-en-ja        |    6.41 |     62.91 |       7.09 |\n",
    "| facebook/nllb-200-distilled-600M |   30.00 |     86.64 |      26.05 |\n",
    "| facebook/nllb-200-distilled-1.3B |   32.38 |     88.02 |      46.04 |\n",
    "| facebook/m2m100_418M             |   32.73 |     85.09 |      23.29 |\n",
    "| facebook/m2m100_1.2B             |   35.83 |     87.78 |      43.89 |\n",
    "\n",
    "## ja -> en flores-devtest metrics\n",
    "\n",
    "|                                  |   bleu |   chrf2 |   comet22 |   Time (s) |\n",
    "|:---------------------------------|-------:|--------:|----------:|-----------:|\n",
    "| quickmt/quickmt-ja-en            |  27.91 |   57.06 |     87.29 |       1.00 |\n",
    "| Helsink-NLP/opus-mt-ja-en        |  19.22 |   49.15 |     82.64 |       3.54 |\n",
    "| facebook/nllb-200-distilled-600M |  24.05 |   53.39 |     85.84 |      22.5  |\n",
    "| facebook/nllb-200-distilled-1.3B |  28.4  |   56.96 |     87.47 |      37.15 |\n",
    "| facebook/m2m100_418M             |  18.82 |   49.55 |     82.59 |      18.27 |\n",
    "| facebook/m2m100_1.2B             |  23.32 |   53.46 |     85.43 |      35.44 |\n",
    "\n",
    "## en -> ar flores-devtest metrics\n",
    "\n",
    "|                                  |   bleu |   chrf2 |   comet22 |   Time (s) |\n",
    "|:---------------------------------|-------:|--------:|----------:|-----------:|\n",
    "| quickmt/quickmt-en-ar            |  29.61 |   61.59 |     86.28 |       1    |\n",
    "| Helsink-NLP/opus-mt-en-ar        |  23.02 |   54.74 |     83.21 |       4.37 |\n",
    "| facebook/nllb-200-distilled-600M |  23.03 |   55.13 |     84.84 |      28.4  |\n",
    "| facebook/nllb-200-distilled-1.3B |  26.48 |   58.1  |     86.23 |      48.8  |\n",
    "| facebook/m2m100_418M             |  19.4  |   51.52 |     81.36 |      22.23 |\n",
    "| facebook/m2m100_1.2B             |  13.56 |   43.43 |     75.32 |      45.77 |\n",
    "\n",
    "## ar -> en flores-devtest metrics\n",
    "\n",
    "|                                  |   bleu |   chrf2 |   comet22 |   Time (s) |\n",
    "|:---------------------------------|-------:|--------:|----------:|-----------:|\n",
    "| quickmt/quickmt-ar-en            |  42.79 |   66.98 |     87.4  |       0.88 |\n",
    "| Helsink-NLP/opus-mt-ar-en        |  34.22 |   61.26 |     84.5  |       3.78 |\n",
    "| facebook/nllb-200-distilled-600M |  39.13 |   64.14 |     86.22 |      21.58 |\n",
    "| facebook/nllb-200-distilled-1.3B |  42.29 |   66.55 |     87.55 |      37.7  |\n",
    "| facebook/m2m100_418M             |  29.41 |   57.68 |     82.21 |      18.5  |\n",
    "| facebook/m2m100_1.2B             |  29.77 |   56.7  |     80.77 |      36.23 |\n",
    "\n",
    "\n",
    "## en -> ko flores-devtest metrics\n",
    "\n",
    "|                                  |   bleu |   chrf2 |   comet22 |   Time (s) |\n",
    "|:---------------------------------|-------:|--------:|----------:|-----------:|\n",
    "| quickmt/quickmt-en-ko            |  14.97 |   36.96 |     87.1  |       1.36 |\n",
    "| facebook/nllb-200-distilled-600M |  12.15 |   33.66 |     87.39 |      24.75 |\n",
    "| facebook/nllb-200-distilled-1.3B |  13.23 |   35.62 |     88.39 |      40.29 |\n",
    "| facebook/m2m100_418M             |   9.91 |   30.69 |     83.2  |      22.23 |\n",
    "| facebook/m2m100_1.2B             |  11.35 |   33.26 |     85.65 |      41.15 |\n",
    "\n",
    "## ko -> en flores-devtest metrics\n",
    "\n",
    "|                                  |   bleu |   chrf2 |   comet22 |   Time (s) |\n",
    "|:---------------------------------|-------:|--------:|----------:|-----------:|\n",
    "| quickmt/quickmt-ko-en            |  27.03 |   56.25 |     86.11 |       1.05 |\n",
    "| Helsink-NLP/opus-mt-ko-en        |  20.78 |   50.39 |     83.06 |       3.62 |\n",
    "| facebook/nllb-200-distilled-600M |  26.53 |   55.04 |     85.83 |      21.28 |\n",
    "| facebook/nllb-200-distilled-1.3B |  29.61 |   57.58 |     87.24 |      37.42 |\n",
    "| facebook/m2m100_418M             |  20.75 |   50.65 |     82.07 |      18.21 |\n",
    "| facebook/m2m100_1.2B             |  24.59 |   54.17 |     85.15 |      34.82 |\n",
    "\n",
    "## de -> en flores-devtest metrics\n",
    "\n",
    "|                                  |   bleu |   chrf2 |   comet22 |   Time (s) |\n",
    "|:---------------------------------|-------:|--------:|----------:|-----------:|\n",
    "| quickmt/quickmt-de-en            |  44.21 |   68.83 |     88.89 |       1.03 |\n",
    "| Helsink-NLP/opus-mt-de-en        |  40.04 |   66.16 |     87.68 |       3.47 |\n",
    "| facebook/nllb-200-distilled-600M |  42.46 |   67.07 |     88.14 |      21.36 |\n",
    "| facebook/nllb-200-distilled-1.3B |  44.44 |   68.75 |     89.08 |      37.58 |\n",
    "| facebook/m2m100_418M             |  34.27 |   61.86 |     84.52 |      17.89 |\n",
    "| facebook/m2m100_1.2B             |  40.34 |   65.99 |     87.67 |      35.27 |\n",
    "\n",
    "## en -> de flores-devtest metrics\n",
    "\n",
    "|                                  |   bleu |   chrf2 |   comet22 |   Time (s) |\n",
    "|:---------------------------------|-------:|--------:|----------:|-----------:|\n",
    "| quickmt/quickmt-en-de            |  40.17 |   66.26 |     86.91 |       1.1  |\n",
    "| Helsink-NLP/opus-mt-en-de        |  36.06 |   63.53 |     84.63 |       3.72 |\n",
    "| facebook/nllb-200-distilled-600M |  35.72 |   63.41 |     86.65 |      26.93 |\n",
    "| facebook/nllb-200-distilled-1.3B |  38.61 |   65.01 |     87.99 |      46.57 |\n",
    "| facebook/m2m100_418M             |  28.57 |   57.76 |     79.75 |      21.46 |\n",
    "| facebook/m2m100_1.2B             |  36.24 |   63.37 |     85.82 |      41.5  |\n",
    "\n",
    "| Model                            | chrf2 | bleu    | comet22 | Time (s) |\n",
    "| -------------------------------- | ----- | ------- | ------- | -------- |\n",
    "| quickmt/quickmt-it-en            | 61.48 | 32.10   | 87.31   | 0.9      |\n",
    "| Helsinki-NLP/opus-mt-it-en       | 59.96 | 29.48   | 86.59   | 4.36     |\n",
    "| facebook/nllb-200-distilled-600M | 61.97 | 33.49   | 87.39   | 23.0     |\n",
    "| facebook/nllb-200-distilled-1.3B | 63.23 | 34.97   | 88.14   | 40.4     |\n",
    "| facebook/m2m100_418M             | 56.94 | 25.92   | 83.14   | 20.0     |\n",
    "| facebook/m2m100_1.2B             | 60.43 | 30.81   | 86.43   | 38.1     |\n",
    "\n",
    "| Model                            | chrf2 | bleu    | comet22 | Time (s) |\n",
    "| -------------------------------- | ----- | ------- | ------- | -------- |\n",
    "| quickmt/quickmt-en-it            | 59.72 | 30.52   | 87.55   | 1.1      |\n",
    "| Helsinki-NLP/opus-mt-en-it       | 57.66 | 27.58   | 85.10   | 5.28     |\n",
    "| facebook/nllb-200-distilled-600M | 58.30 | 28.58   | 87.30   | 25.2     |\n",
    "| facebook/nllb-200-distilled-1.3B | 59.89 | 30.92   | 88.52   | 46.0     |\n",
    "| facebook/m2m100_418M             | 54.34 | 23.91   | 82.64   | 21.4     |\n",
    "| facebook/m2m100_1.2B             | 57.19 | 27.22   | 86.23   | 41.2     |\n",
    "\n",
    "| Model                            | chrf2 | bleu    | comet22 | Time (s) |\n",
    "| -------------------------------- | ----- | ------- | ------- | -------- |\n",
    "| quickmt/quickmt-hi-en            | 65.04 | 39.90   | 88.77   | 1.17     |\n",
    "| Helsinki-NLP/opus-mt-hi-en       | 45.90 | 18.83   | 75.81   | 3.73     |\n",
    "| facebook/nllb-200-distilled-600M | 64.90 | 38.80   | 88.87   | 22.4     |\n",
    "| facebook/nllb-200-distilled-1.3B | 66.67 | 41.71   | 89.69   | 37.9     |\n",
    "| facebook/m2m100_418M             | 57.66 | 29.81   | 85.00   | 18.7     |\n",
    "| facebook/m2m100_1.2B             | 60.21 | 33.79   | 86.30   | 38.3     |\n",
    "\n",
    "| Model                            | bleu | chrf2    | comet22 | Time (s) |\n",
    "| -------------------------------- | ----- | ------- | ------- | -------- |\n",
    "| quickmt/quickmt-en-hi            | 35.90 | 59.94   | 79.04  | 0.97      |\n",
    "| Helsinki-NLP/opus-mt-en-hi       | 13.53 | 35.51   | 60.13  | 4.37      |\n",
    "| facebook/nllb-200-distilled-600M | 31.13 | 56.66   | 80.26  | 26.1      |\n",
    "| facebook/nllb-200-distilled-1.3B | 32.43 | 57.64   | 81.06  | 45.3      |\n",
    "| facebook/m2m100_418M             | 26.17 | 51.24   | 74.65  | 26.2      |\n",
    "| facebook/m2m100_1.2B             | 26.57 | 51.88   | 76.09  | 48.5      |\n",
    "\n",
    "| Model                            | bleu | chrf2    | comet22 | Time (s) |\n",
    "| -------------------------------- | ----- | ------- | ------- | -------- |\n",
    "| quickmt/quickmt-es-en            |  |    |   |      |\n",
    "| Helsinki-NLP/opus-mt-es-en       | 27.62 | 58.38   | 86.01  | 3.98     |\n",
    "| facebook/nllb-200-distilled-600M | 30.02 | 59.71   | 86.55  | 22.9     |\n",
    "| facebook/nllb-200-distilled-1.3B | 31.58 | 60.96   | 87.25  | 38.6     |\n",
    "| facebook/m2m100_418M             | 22.85 | 55.04   | 82.90  | 19.0     |\n",
    "| facebook/m2m100_1.2B             | 26.84 | 57.69   | 85.47  | 36.9     |\n",
    "\n",
    "| Model                            | bleu | chrf2    | comet22 | Time (s) |\n",
    "| -------------------------------- | ----- | ------- | ------- | -------- |\n",
    "| quickmt/quickmt-en-es            |  |    |    |      |\n",
    "| Helsinki-NLP/opus-mt-en-es       | 26.56 | 55.01   | 84.92   | 5.01     |\n",
    "| facebook/nllb-200-distilled-600M | 27.20 | 55.68   | 85.82   | 26.2     |\n",
    "| facebook/nllb-200-distilled-1.3B | 28.06 | 56.47   | 86.55   | 45.4     |\n",
    "| facebook/m2m100_418M             | 22.48 | 51.72   | 81.05   | 20.6     |\n",
    "| facebook/m2m100_1.2B             | 25.75 | 54.38   | 84.58   | 39.6     |\n",
    "\n",
    "| Model                            | bleu | chrf2    | comet22 | Time (s) |\n",
    "| -------------------------------- | ----- | ------- | ------- | -------- |\n",
    "| quickmt/quickmt-ru-en            |  |    |   |      |\n",
    "| Helsinki-NLP/opus-mt-ru-en       | 30.04 | 58.23    |    |       |\n",
    "| facebook/nllb-200-distilled-600M | 34.60 | 61.26    |    |       |\n",
    "| facebook/nllb-200-distilled-1.3B | 36.99 | 63.04    |    |       |\n",
    "| facebook/m2m100_418M             | 26.62 | 56.31    |    |       |\n",
    "| facebook/m2m100_1.2B             | 32.01 | 54.69    |    |       |\n",
    "\n",
    "| Model                            | bleu | chrf2    | comet22 | Time (s) |\n",
    "| -------------------------------- | ----- | ------- | ------- | -------- |\n",
    "| quickmt/quickmt-en-ru            |  |    |    |      |\n",
    "| Helsinki-NLP/opus-mt-en-ru       | 26.59  | 54.91   |     |      |\n",
    "| facebook/nllb-200-distilled-600M | 28.79  | 56.58   |     |      |\n",
    "| facebook/nllb-200-distilled-1.3B | 31.49  | 58.63   |     |      |\n",
    "| facebook/m2m100_418M             | 23.16  | 51.73   |     |      |\n",
    "| facebook/m2m100_1.2B             | 28.88  | 56.61   |     |      |\n",
    "\n",
    "\n",
    "\n",
    "# en -> bn flores-devtest metrics\n",
    "\n",
    "|                                  |   bleu |   chrfs |   comet |   time |\n",
    "|:---------------------------------|-------:|--------:|--------:|-------:|\n",
    "| quickmt-en-bn                    |  19.26 |   53.36 |   84.68 |   0.95 |\n",
    "| facebook/nllb-200-distilled-600M |  15.64 |   50.65 |   85.69 |  27.51 |\n",
    "| facebook/nllb-200-distilled-1.3B |  17.31 |   52.17 |   86.45 |  45.61 |\n",
    "| facebook/m2m100_418M             |   7.39 |   36.54 |   70.44 |  42.36 |\n",
    "| facebook/m2m100_1.2B             |  12    |   45.19 |   81.92 |  61.64 |\n",
    "\n",
    "## bn -> en flores-devtest metrics\n",
    "\n",
    "|                                  |   bleu |   chrfs |   comet |   time |\n",
    "|:---------------------------------|-------:|--------:|--------:|-------:|\n",
    "| quickmt-bn-en                    |  32.94 |   59.7  |   87    |   1.18 |\n",
    "| Helsink-NLP/opusmt-bn-en         |  17.89 |   45.94 |   78.62 |   4.27 |\n",
    "| facebook/nllb-200-distilled-600M |  33.51 |   59.73 |   87.48 |  20.97 |\n",
    "| facebook/nllb-200-distilled-1.3B |  36.4  |   62.18 |   88.61 |  37.53 |\n",
    "| facebook/m2m100_418M             |  23.84 |   52.67 |   82.94 |  22.55 |\n",
    "| facebook/m2m100_1.2B             |  27.26 |   54.86 |   84.28 |  37.13 |\n",
    "\n",
    "## en -> id flores-devtest metrics\n",
    "\n",
    "|                                  |   bleu |   chrfs |   comet |   time |\n",
    "|:---------------------------------|-------:|--------:|--------:|-------:|\n",
    "| quickmt-en-id                    |  48.71 |   71.96 |   91.03 |   0.97 |\n",
    "| Helsink-NLP/opusmt-en-id         |  39.71 |   66.5  |   88.24 |   3.49 |\n",
    "| facebook/nllb-200-distilled-600M |  43.74 |   69.06 |   90.47 |  19.23 |\n",
    "| facebook/nllb-200-distilled-1.3B |  46.14 |   70.7  |   91.39 |  32.97 |\n",
    "| facebook/m2m100_418M             |  36.77 |   63.8  |   87.13 |  17.66 |\n",
    "| facebook/m2m100_1.2B             |  42.62 |   68.04 |   89.76 |  34.03 |\n",
    "\n",
    "## id -> en flores-devtest metrics\n",
    "\n",
    "|                                  |   bleu |   chrfs |   comet |   time |\n",
    "|:---------------------------------|-------:|--------:|--------:|-------:|\n",
    "| quickmt-id-en                    |  44.58 |   68.82 |   89.36 |   0.94 |\n",
    "| Helsink-NLP/opusmt-id-en         |  34.62 |   62.07 |   86.31 |   3.19 |\n",
    "| facebook/nllb-200-distilled-600M |  42.26 |   66.89 |   88.67 |  20.65 |\n",
    "| facebook/nllb-200-distilled-1.3B |  45.25 |   68.92 |   89.51 |  35.85 |\n",
    "| facebook/m2m100_418M             |  33.14 |   60.91 |   84.85 |  17.28 |\n",
    "| facebook/m2m100_1.2B             |  39.1  |   65.07 |   87.55 |  33.31 |\n",
    "\n",
    "## pt -> en flores-devtest metrics\n",
    "\n",
    "|                                  |   bleu |   chrfs |   comet |   time |\n",
    "|:---------------------------------|-------:|--------:|--------:|-------:|\n",
    "| quickmt-pt-en                    |  48.64 |   71.48 |   89.09 |   0.96 |\n",
    "| facebook/nllb-200-distilled-600M |  48.77 |   71.3  |   89.2  |  20.66 |\n",
    "| facebook/nllb-200-distilled-1.3B |  51.02 |   72.83 |   89.78 |  35.85 |\n",
    "| facebook/m2m100_418M             |  40.01 |   66.14 |   86.01 |  17.36 |\n",
    "| facebook/m2m100_1.2B             |  45.69 |   69.52 |   88.3  |  33.53 |\n",
    "\n",
    "## en -> pt flores-devtest metrics\n",
    "\n",
    "|                                  |   bleu |   chrfs |   comet |   time |\n",
    "|:---------------------------------|-------:|--------:|--------:|-------:|\n",
    "| quickmt-en-pt                    |  50.62 |   71.79 |   89.27 |   0.97 |\n",
    "| facebook/nllb-200-distilled-600M |  47.68 |   70.28 |   89.05 |  23.75 |\n",
    "| facebook/nllb-200-distilled-1.3B |  48.92 |   70.96 |   89.77 |  41.13 |\n",
    "| facebook/m2m100_418M             |  41.14 |   65.85 |   85.49 |  19.08 |\n",
    "| facebook/m2m100_1.2B             |  46.56 |   69.41 |   88.53 |  37.42 |\n",
    "\n",
    "\n",
    "\n",
    "## en -> ja flores-devtest metrics\n",
    "|                                  |   chrfs |   comet |   time |\n",
    "|:---------------------------------|--------:|--------:|-------:|\n",
    "| quickmt-en-ja                    |   42.04 |   89.08 |   1.21 |\n",
    "| Helsink-NLP/opusmt-en-ja         |    6.41 |   62.91 |   6.97 |\n",
    "| facebook/nllb-200-distilled-600M |   30    |   86.64 |  25.17 |\n",
    "| facebook/nllb-200-distilled-1.3B |   32.38 |   88.02 |  44.36 |\n",
    "| facebook/m2m100_418M             |   32.73 |   85.09 |  22.55 |\n",
    "| facebook/m2m100_1.2B             |   35.83 |   87.78 |  42.18 |\n",
    "\n",
    "## ja -> en flores-devtest metrics\n",
    "\n",
    "|                                  |   bleu |   chrfs |   comet |   time |\n",
    "|:---------------------------------|-------:|--------:|--------:|-------:|\n",
    "| quickmt-ja-en                    |  27.91 |   57.06 |   87.29 |   0.86 |\n",
    "| Helsink-NLP/opusmt-ja-en         |  19.22 |   49.15 |   82.64 |   3.52 |\n",
    "| facebook/nllb-200-distilled-600M |  24.05 |   53.39 |   85.84 |  22.01 |\n",
    "| facebook/nllb-200-distilled-1.3B |  28.4  |   56.96 |   87.47 |  36.6  |\n",
    "| facebook/m2m100_418M             |  18.82 |   49.55 |   82.59 |  17.88 |\n",
    "| facebook/m2m100_1.2B             |  23.32 |   53.46 |   85.43 |  34.81 |\n"
   ]
  },
  {
   "cell_type": "code",
   "execution_count": null,
   "id": "a7fdd6ef-ac08-4c1f-807d-d119cad746ec",
   "metadata": {},
   "outputs": [],
   "source": []
  },
  {
   "cell_type": "code",
   "execution_count": null,
   "id": "bd525353-ce37-4fb0-9fe0-d85c7cec2882",
   "metadata": {},
   "outputs": [],
   "source": []
  },
  {
   "cell_type": "code",
   "execution_count": null,
   "id": "cf863b2b-3e95-443a-b8d8-180bc2160863",
   "metadata": {},
   "outputs": [],
   "source": []
  },
  {
   "cell_type": "code",
   "execution_count": null,
   "id": "3bae6d4e-4051-4c89-b094-2ab7e4fdeca2",
   "metadata": {},
   "outputs": [],
   "source": []
  }
 ],
 "metadata": {
  "kernelspec": {
   "display_name": "Python 3 (ipykernel)",
   "language": "python",
   "name": "python3"
  },
  "language_info": {
   "codemirror_mode": {
    "name": "ipython",
    "version": 3
   },
   "file_extension": ".py",
   "mimetype": "text/x-python",
   "name": "python",
   "nbconvert_exporter": "python",
   "pygments_lexer": "ipython3",
   "version": "3.12.8"
  }
 },
 "nbformat": 4,
 "nbformat_minor": 5
}
