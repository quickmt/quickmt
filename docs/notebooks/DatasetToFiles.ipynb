{
 "cells": [
  {
   "cell_type": "markdown",
   "id": "6c63c431-ef5e-4d40-99e2-80944dda0161",
   "metadata": {},
   "source": [
    "## quickmt train vocab"
   ]
  },
  {
   "cell_type": "code",
   "execution_count": null,
   "id": "6b39311f-3aef-4d1c-aeb1-fcfd3c73f0a1",
   "metadata": {},
   "outputs": [],
   "source": [
    "import datasets\n",
    "import sentencepiece as spm\n",
    "from tqdm.auto import tqdm"
   ]
  },
  {
   "cell_type": "code",
   "execution_count": null,
   "id": "19d33db5-427b-4e45-b8f3-829c1e5fae63",
   "metadata": {},
   "outputs": [],
   "source": [
    "src_lang = \"ar\"\n",
    "tgt_lang = \"en\"\n",
    "src_lang_flores = \"arb_Arab\"\n",
    "tgt_lang_flores = \"eng_Latn\"\n",
    "\n",
    "dataset = \"quickmt/quickmt-train.ar-en\"\n",
    "\n",
    "vocab_size = 20000\n",
    "character_coverage = 0.9999\n",
    "num_threads = 6\n",
    "limit = 10_000_000\n",
    "counter = 0"
   ]
  },
  {
   "cell_type": "code",
   "execution_count": null,
   "id": "ba567d99-9903-4019-92fd-75f9e3c34194",
   "metadata": {},
   "outputs": [],
   "source": [
    "try:\n",
    "    flores = datasets.load_dataset(\n",
    "        \"facebook/flores\",\n",
    "        f\"{src_lang_flores}-{tgt_lang_flores}\",\n",
    "    )\n",
    "except:\n",
    "    flores = datasets.load_dataset(\n",
    "        \"facebook/flores\",\n",
    "        f\"{tgt_lang_flores}-{src_lang_flores}\",\n",
    "    )\n",
    "\n",
    "src = []\n",
    "ref = []\n",
    "for i in flores[\"dev\"]:\n",
    "    src.append(i[f\"sentence_{src_lang_flores}\"])\n",
    "    ref.append(i[f\"sentence_{tgt_lang_flores}\"])"
   ]
  },
  {
   "cell_type": "code",
   "execution_count": null,
   "id": "e9af35f8-f028-4849-abdf-92c3f3dcb53f",
   "metadata": {},
   "outputs": [],
   "source": [
    "with open(f\"flores-dev.{src_lang}\", \"wt\") as myfile:\n",
    "    myfile.write(\"\".join([i + \"\\n\" for i in src]))\n",
    "with open(f\"flores-dev.{tgt_lang}\", \"wt\") as myfile:\n",
    "    myfile.write(\"\".join([i + \"\\n\" for i in ref]))"
   ]
  },
  {
   "cell_type": "code",
   "execution_count": null,
   "id": "a6e15bbc-5318-49db-a054-3ca131738af9",
   "metadata": {},
   "outputs": [],
   "source": [
    "ds = datasets.load_dataset(dataset, streaming=True)[\"train\"]\n",
    "\n",
    "with open(f\"{src_lang}.txt\", \"wt\") as src_file, open(\n",
    "    f\"{tgt_lang}.txt\", \"wt\"\n",
    ") as tgt_file:\n",
    "    for i in tqdm(ds):\n",
    "        src_file.write(i[src_lang] + \"\\n\")\n",
    "        tgt_file.write(i[tgt_lang] + \"\\n\")\n",
    "        counter += 1\n",
    "        if limit > 0 and counter >= limit:\n",
    "            break"
   ]
  },
  {
   "cell_type": "code",
   "execution_count": null,
   "id": "e49afff6-2855-4dff-be6c-05b3993e1da4",
   "metadata": {},
   "outputs": [],
   "source": [
    "!wc -l {src_lang}.txt"
   ]
  },
  {
   "cell_type": "code",
   "execution_count": null,
   "id": "61a5497c-9f4d-4776-8a83-e895da91bb91",
   "metadata": {},
   "outputs": [],
   "source": [
    "!wc -l {tgt_lang}.txt"
   ]
  },
  {
   "cell_type": "code",
   "execution_count": null,
   "id": "8eab7f85-a550-408f-94df-10e19a55bc07",
   "metadata": {
    "scrolled": true
   },
   "outputs": [],
   "source": [
    "spm.SentencePieceTrainer.train(\n",
    "    input=f\"{src_lang}.txt\",\n",
    "    model_prefix=f\"{src_lang}.spm\",\n",
    "    vocab_size=vocab_size,\n",
    "    character_coverage=character_coverage,\n",
    "    num_threads=num_threads,\n",
    "    shuffle_input_sentence=True,\n",
    "    byte_fallback=True,\n",
    ")"
   ]
  },
  {
   "cell_type": "code",
   "execution_count": null,
   "id": "b898affe-8532-437f-ad7d-92400b2e9e0d",
   "metadata": {},
   "outputs": [],
   "source": [
    "spm.SentencePieceTrainer.train(\n",
    "    input=f\"{tgt_lang}.txt\",\n",
    "    model_prefix=f\"{tgt_lang}.spm\",\n",
    "    vocab_size=vocab_size,\n",
    "    character_coverage=character_coverage,\n",
    "    shuffle_input_sentence=True,\n",
    "    num_threads=num_threads,\n",
    "    byte_fallback=True,\n",
    ")"
   ]
  }
 ],
 "metadata": {
  "kernelspec": {
   "display_name": "Python 3 (ipykernel)",
   "language": "python",
   "name": "python3"
  },
  "language_info": {
   "codemirror_mode": {
    "name": "ipython",
    "version": 3
   },
   "file_extension": ".py",
   "mimetype": "text/x-python",
   "name": "python",
   "nbconvert_exporter": "python",
   "pygments_lexer": "ipython3",
   "version": "3.12.8"
  }
 },
 "nbformat": 4,
 "nbformat_minor": 5
}
