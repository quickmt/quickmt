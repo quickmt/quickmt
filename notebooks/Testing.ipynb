{
 "cells": [
  {
   "cell_type": "markdown",
   "id": "bf9bb270-36a6-4d4d-a78c-aebf27a5f323",
   "metadata": {},
   "source": [
    "# `quickmt` Demo\n",
    "\n",
    "First, download a model:\n",
    "\n",
    "```bash\n",
    "quickmt-model-download quickmt/quickmt-zh-en ./quickmt-zh-en\n",
    "```"
   ]
  },
  {
   "cell_type": "code",
   "execution_count": null,
   "id": "c348ffbd-6941-41ff-a2ac-93656314e087",
   "metadata": {},
   "outputs": [],
   "source": [
    "from pathlib import Path\n",
    "\n",
    "import datasets\n",
    "from quickmt import Translator\n",
    "from sacrebleu import BLEU, CHRF"
   ]
  },
  {
   "cell_type": "code",
   "execution_count": null,
   "id": "b3de5d93-7324-424f-b4a5-82b22b998113",
   "metadata": {},
   "outputs": [],
   "source": [
    "# For CPU inference\n",
    "# t = Translator(\"../quickmt-models/quickmt-zh-en\", device=\"cpu\", intra_threads=6, inter_threads=1)\n",
    "\n",
    "# Will auto-detect GPU if available by default\n",
    "t = Translator(\n",
    "    \"/home/mark/Downloads/ct2-enfr/\", device=\"cuda\", intra_threads=1, inter_threads=1\n",
    ")"
   ]
  },
  {
   "cell_type": "code",
   "execution_count": null,
   "id": "7ce6672f-cc53-4169-b9cc-6bdc686f08da",
   "metadata": {},
   "outputs": [],
   "source": [
    "# Can input a string\n",
    "t(\n",
    "    \"Birds are very interesting and so is Juno. Kakapoes are almost extinct and are very rare.\",\n",
    "    beam_size=5,\n",
    ")"
   ]
  },
  {
   "cell_type": "code",
   "execution_count": null,
   "id": "bfd5612f-682f-49c4-9b09-50acafe16b12",
   "metadata": {},
   "outputs": [],
   "source": [
    "t(\"My name is Azura\")"
   ]
  },
  {
   "cell_type": "code",
   "execution_count": null,
   "id": "bbd5f5c9-44d4-4d89-8b48-842444a16a22",
   "metadata": {},
   "outputs": [],
   "source": [
    "t(\"Fizzzzzz\")"
   ]
  },
  {
   "cell_type": "code",
   "execution_count": null,
   "id": "8ea0af4d-86f1-47de-8a8d-4e6989f2c456",
   "metadata": {},
   "outputs": [],
   "source": [
    "t(\"It is almost supper time\")"
   ]
  },
  {
   "cell_type": "code",
   "execution_count": null,
   "id": "d42554c5-06b9-42f6-8951-b207f0591d67",
   "metadata": {},
   "outputs": [],
   "source": [
    "t(\"Cat.\", beam_size=5)"
   ]
  },
  {
   "cell_type": "code",
   "execution_count": null,
   "id": "842a073f-5c05-42c6-83d4-ca8c93535bff",
   "metadata": {},
   "outputs": [],
   "source": [
    "t(\"It is winter\")"
   ]
  },
  {
   "cell_type": "code",
   "execution_count": null,
   "id": "4afefe58-6d67-4948-8bbd-f9ecf13cc745",
   "metadata": {},
   "outputs": [],
   "source": [
    "t(\"Today is Friday, I love weekends!\")"
   ]
  },
  {
   "cell_type": "code",
   "execution_count": null,
   "id": "f338fc4a-dc66-4655-8054-885e709be4d6",
   "metadata": {},
   "outputs": [],
   "source": []
  },
  {
   "cell_type": "code",
   "execution_count": null,
   "id": "651f93b5-b449-4b89-8926-81d7d75019d4",
   "metadata": {},
   "outputs": [],
   "source": []
  },
  {
   "cell_type": "code",
   "execution_count": null,
   "id": "70abd199-ebfe-4584-b1ca-f5459c3ccb42",
   "metadata": {},
   "outputs": [],
   "source": [
    "# Or a list of strings\n",
    "# Change max_batch_size so that batches will fit in RAM on your machine\n",
    "t(\n",
    "    [\"他补充道：“我们现在有 4 个月大没有糖尿病的老鼠，但它们曾经得过该病。”\"] * 8,\n",
    "    beam_size=5,\n",
    "    max_batch_size=3,\n",
    ")"
   ]
  },
  {
   "cell_type": "code",
   "execution_count": null,
   "id": "ef234b72-54ed-42e8-9d40-f9263f2f861c",
   "metadata": {},
   "outputs": [],
   "source": [
    "# Get alternative translations by sampling\n",
    "# Can pass any CTranslate2 Translator.translate_batch arguments\n",
    "# See https://opennmt.net/CTranslate2/python/ctranslate2.Translator.html#ctranslate2.Translator.translate_batch\n",
    "t(\n",
    "    [\"他补充道：“我们现在有 4 个月大没有糖尿病的老鼠，但它们曾经得过该病。”\"],\n",
    "    sampling_temperature=0.8,\n",
    "    beam_size=1,\n",
    "    sampling_topk=50,\n",
    "    sampling_topp=0.99,\n",
    ")"
   ]
  },
  {
   "cell_type": "markdown",
   "id": "f14a9fa0-9d18-41eb-bb8c-28686f77a02f",
   "metadata": {},
   "source": [
    "## Evaluate on flores-devtest"
   ]
  },
  {
   "cell_type": "code",
   "execution_count": null,
   "id": "73ff5ffd-8c25-406d-95d7-c71d351a1500",
   "metadata": {},
   "outputs": [],
   "source": [
    "bleu = BLEU()\n",
    "chrf = CHRF()\n",
    "src_lang = \"zho_Hans\"\n",
    "tgt_lang = \"eng_Latn\"\n",
    "\n",
    "try:\n",
    "    flores = datasets.load_dataset(\n",
    "        \"facebook/flores\",\n",
    "        f\"{src_lang}-{tgt_lang}\",  # trust_remote_code=True\n",
    "    )\n",
    "except:\n",
    "    flores = datasets.load_dataset(\n",
    "        \"facebook/flores\",\n",
    "        f\"{tgt_lang}-{src_lang}\",  # trust_remote_code=True\n",
    "    )\n",
    "\n",
    "src = []\n",
    "ref = []\n",
    "for i in flores[\"devtest\"]:\n",
    "    src.append(i[f\"sentence_{src_lang}\"])\n",
    "    ref.append(i[f\"sentence_{tgt_lang}\"])"
   ]
  },
  {
   "cell_type": "code",
   "execution_count": null,
   "id": "6c337d4b-075d-4da2-baa8-366722331586",
   "metadata": {},
   "outputs": [],
   "source": [
    "results = t(src, beam_size=1)"
   ]
  },
  {
   "cell_type": "code",
   "execution_count": null,
   "id": "eba54f2a-5491-47f5-9281-e878adaadb26",
   "metadata": {},
   "outputs": [],
   "source": [
    "results[:5]"
   ]
  },
  {
   "cell_type": "code",
   "execution_count": null,
   "id": "482ae3b0-3e65-4643-a71b-0decfff0e0d7",
   "metadata": {},
   "outputs": [],
   "source": [
    "print(bleu.corpus_score(results, [ref]))\n",
    "print(chrf.corpus_score(results, [ref]))"
   ]
  }
 ],
 "metadata": {
  "kernelspec": {
   "display_name": "Python 3 (ipykernel)",
   "language": "python",
   "name": "python3"
  },
  "language_info": {
   "codemirror_mode": {
    "name": "ipython",
    "version": 3
   },
   "file_extension": ".py",
   "mimetype": "text/x-python",
   "name": "python",
   "nbconvert_exporter": "python",
   "pygments_lexer": "ipython3",
   "version": "3.12.8"
  }
 },
 "nbformat": 4,
 "nbformat_minor": 5
}
