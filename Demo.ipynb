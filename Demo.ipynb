{
 "cells": [
  {
   "cell_type": "code",
   "execution_count": 1,
   "id": "c348ffbd-6941-41ff-a2ac-93656314e087",
   "metadata": {},
   "outputs": [],
   "source": [
    "from pathlib import Path\n",
    "\n",
    "import datasets\n",
    "from sacrebleu import BLEU, CHRF\n",
    "\n",
    "from quickmt import Translator"
   ]
  },
  {
   "cell_type": "code",
   "execution_count": 2,
   "id": "31872185-d344-46d3-86cb-efb3b3702d35",
   "metadata": {},
   "outputs": [
    {
     "name": "stderr",
     "output_type": "stream",
     "text": [
      "[2025-01-26 21:45:24.937] [ctranslate2] [thread 345220] [warning] The compute type inferred from the saved model is bfloat16, but the target device or backend do not support efficient bfloat16 computation. The model weights have been automatically converted to use the float32 compute type instead.\n"
     ]
    }
   ],
   "source": [
    "t = Translator(\"/media/mark/nvme2022/mt/zh-en/CloudModels/ct2-step-109k/\")"
   ]
  },
  {
   "cell_type": "code",
   "execution_count": 3,
   "id": "faf07a73-c397-4c23-8790-40efc5f113ba",
   "metadata": {},
   "outputs": [],
   "source": [
    "# Split sentences\n",
    "x = t.sentence_split([\"\"\"2019冠状病毒病疫情[11][註 3]是由严重急性呼吸系统综合征冠状病毒2（SARS-CoV-2）导致的2019冠状病毒病（COVID-19）所引發的全球大流行疫情[12]。该疾病在2019年末於中華人民共和國湖北省武漢市首次爆發，隨後在2020年初迅速擴散至全球多國，逐漸變成一場全球性大瘟疫[13]。是次疫情而言全球已累计报告逾777,309,629[9]例确诊病例，其中逾7,083,233[9]人死亡[14]，病死率约为2.09%[15]，是人類歷史上大規模流行病之一。世界各国对该病病死率的估计值差异甚大，多数国家该病的观测病死率在0.5%-5.0%之间[16][註 4]\n",
    "目前研究表明，SARS-CoV-2最早可能于2019年10月至11月进入人类社会生活并开始传播[18][19][20]，而目前明确已知的首宗感染個案于2019年12月1日在武汉市发病[21][註 5]。首位前往医院就诊的患者可能出现于12月12日[24]。12月26日，武汉市呼吸与重症医学科医生张继先最早发现和上报此不明原因肺炎，并怀疑该病属传染病[25][26][27]。2020年1月13日起，疫情陸續蔓延到泰国、日本及韩国等相邻國家[28][29][30]，至1月21日则波及到亚洲以外的美國西雅圖[31]。1月23日，武汉市新冠肺炎疫情防控指挥部宣布采取疫区封锁隔离措施[32][33]，这是近代公共衛生史上第一次对千万人口规模的大城市采取封锁措施[34]。在1月30日，中国境外有3个国家證實出現社區传播，而世界卫生组织亦于当日宣布疫情为「国际关注的突发公共卫生事件」。2月中旬，中国大陆的疫情达到发展高峰，而2月底意大利、韓國與伊朗三国的確診人數急速增加。2月29日，世卫组织将疫情的全球風險級別提升为「非常高」[35]。3月11日，歐洲與中東各國都出現了大量病例，世卫组织宣布此次疫情已构成“全球大流行”[36][37][38]。此后欧洲[39]、南美洲[40]先后被宣布为本次大流行的中心。\"\"\", \n",
    "                 \"10月5日，世卫组织表示，根据“最确切推算”，全球约10%的人口可能已感染病毒[41][42]。截至2021年5月21日，根據世界卫生组织的估計，真正的死亡人數可能高達官方報告的2-3倍，約至少600萬-800萬人[43]。\"])"
   ]
  },
  {
   "cell_type": "code",
   "execution_count": 4,
   "id": "e7187df4-44c7-403e-8cc6-b1f7d8a6375a",
   "metadata": {},
   "outputs": [
    {
     "data": {
      "text/plain": [
       "['2019冠状病毒病疫情[11][註 3]是由严重急性呼吸系统综合征冠状病毒2（SARS-CoV-2）导致的2019冠状病毒病（COVID-19）所引發的全球大流行疫情[12]。 该疾病在2019年末於中華人民共和國湖北省武漢市首次爆發，隨後在2020年初迅速擴散至全球多國，逐漸變成一場全球性大瘟疫[13]。 是次疫情而言全球已累计报告逾777,309,629[9]例确诊病例，其中逾7,083,233[9]人死亡[14]，病死率约为2.09%[15]，是人類歷史上大規模流行病之一。 世界各国对该病病死率的估计值差异甚大，多数国家该病的观测病死率在0.5%-5.0%之间[16][註 4] 目前研究表明，SARS-CoV-2最早可能于2019年10月至11月进入人类社会生活并开始传播[18][19][20]，而目前明确已知的首宗感染個案于2019年12月1日在武汉市发病[21][註 5]。 首位前往医院就诊的患者可能出现于12月12日[24]。 12月26日，武汉市呼吸与重症医学科医生张继先最早发现和上报此不明原因肺炎，并怀疑该病属传染病[25][26][27]。 2020年1月13日起，疫情陸續蔓延到泰国、日本及韩国等相邻國家[28][29][30]，至1月21日则波及到亚洲以外的美國西雅圖[31]。 1月23日，武汉市新冠肺炎疫情防控指挥部宣布采取疫区封锁隔离措施[32][33]，这是近代公共衛生史上第一次对千万人口规模的大城市采取封锁措施[34]。 在1月30日，中国境外有3个国家證實出現社區传播，而世界卫生组织亦于当日宣布疫情为「国际关注的突发公共卫生事件」。 2月中旬，中国大陆的疫情达到发展高峰，而2月底意大利、韓國與伊朗三国的確診人數急速增加。 2月29日，世卫组织将疫情的全球風險級別提升为「非常高」[35]。 3月11日，歐洲與中東各國都出現了大量病例，世卫组织宣布此次疫情已构成“全球大流行”[36][37][38]。 此后欧洲[39]、南美洲[40]先后被宣布为本次大流行的中心。',\n",
       " '10月5日，世卫组织表示，根据“最确切推算”，全球约10%的人口可能已感染病毒[41][42]。 截至2021年5月21日，根據世界卫生组织的估計，真正的死亡人數可能高達官方報告的2-3倍，約至少600萬-800萬人[43]。']"
      ]
     },
     "execution_count": 4,
     "metadata": {},
     "output_type": "execute_result"
    }
   ],
   "source": [
    "t.sentence_join(x)"
   ]
  },
  {
   "cell_type": "code",
   "execution_count": 5,
   "id": "b0e9c9af-bec3-465d-98e7-20324c941405",
   "metadata": {},
   "outputs": [
    {
     "name": "stdout",
     "output_type": "stream",
     "text": [
      "Translation time: 2.2556991577148438\n"
     ]
    },
    {
     "data": {
      "text/plain": [
       "['Test 1', 'Test 2']"
      ]
     },
     "execution_count": 5,
     "metadata": {},
     "output_type": "execute_result"
    }
   ],
   "source": [
    "# The __call__ method translates a list of strings\n",
    "t([\"Test 1\", \"Test 2\"])"
   ]
  },
  {
   "cell_type": "code",
   "execution_count": 6,
   "id": "70abd199-ebfe-4584-b1ca-f5459c3ccb42",
   "metadata": {},
   "outputs": [
    {
     "name": "stdout",
     "output_type": "stream",
     "text": [
      "Translation time: 6.908450603485107\n"
     ]
    },
    {
     "data": {
      "text/plain": [
       "['\"We now have 4 months old rats without diabetes, but they used to have it.\"']"
      ]
     },
     "execution_count": 6,
     "metadata": {},
     "output_type": "execute_result"
    }
   ],
   "source": [
    "t([\"他补充道：“我们现在有 4 个月大没有糖尿病的老鼠，但它们曾经得过该病。”\"])"
   ]
  },
  {
   "cell_type": "code",
   "execution_count": 6,
   "id": "73ff5ffd-8c25-406d-95d7-c71d351a1500",
   "metadata": {},
   "outputs": [],
   "source": [
    "bleu = BLEU()\n",
    "chrf = CHRF()\n",
    "src_lang = \"zho_Hans\"\n",
    "tgt_lang = \"eng_Latn\"\n",
    "\n",
    "try:\n",
    "    flores = datasets.load_dataset(\n",
    "        \"facebook/flores\",\n",
    "        f\"{src_lang}-{tgt_lang}\",  # trust_remote_code=True\n",
    "    )\n",
    "except:\n",
    "    flores = datasets.load_dataset(\n",
    "        \"facebook/flores\",\n",
    "        f\"{tgt_lang}-{src_lang}\",  # trust_remote_code=True\n",
    "    )\n",
    "\n",
    "src = []\n",
    "ref = []\n",
    "for i in flores[\"devtest\"]:\n",
    "    src.append(i[f\"sentence_{src_lang}\"])\n",
    "    ref.append(i[f\"sentence_{tgt_lang}\"])"
   ]
  },
  {
   "cell_type": "code",
   "execution_count": 7,
   "id": "6c337d4b-075d-4da2-baa8-366722331586",
   "metadata": {},
   "outputs": [
    {
     "name": "stdout",
     "output_type": "stream",
     "text": [
      "Translation time: 621.8101329803467\n"
     ]
    }
   ],
   "source": [
    "results = t(src)"
   ]
  },
  {
   "cell_type": "code",
   "execution_count": 8,
   "id": "eba54f2a-5491-47f5-9281-e878adaadb26",
   "metadata": {},
   "outputs": [
    {
     "data": {
      "text/plain": [
       "['He added: “We now have 4 months old mice without diabetes, but they used to have the disease. “The',\n",
       " 'Dr. Ehud Ur (Professor of Medicine at Dalhousie University in Halifax, Nova Scotia and Professor of Clinical and Science at the Canadian Diabetes Association) cautions that the study is still in its early stages.',\n",
       " 'Like some other experts, he is skeptical about whether diabetes can be cured. He noted that these findings are unrelated to people who already have type 1 diabetes.',\n",
       " 'On Monday, Sarah Daniels, Permanent Secretary of the Swedish Academy’s Nobel Committee for Literature, announced to the public on a show on Swedish radio that the committee had given up trying to contact Bob Dylan because it was unable to contact him directly, informing him that he had won the 2016 Nobel Prize in Literature.',\n",
       " 'Danius said: \"At the moment we remain unarmed. I called and emailed his best collaborators and received a very friendly response. For now, that is enough. “The']"
      ]
     },
     "execution_count": 8,
     "metadata": {},
     "output_type": "execute_result"
    }
   ],
   "source": [
    "results[:5]"
   ]
  },
  {
   "cell_type": "code",
   "execution_count": 9,
   "id": "482ae3b0-3e65-4643-a71b-0decfff0e0d7",
   "metadata": {},
   "outputs": [
    {
     "name": "stdout",
     "output_type": "stream",
     "text": [
      "BLEU = 28.33 61.8/35.0/21.9/14.3 (BP = 0.988 ratio = 0.988 hyp_len = 24422 ref_len = 24721)\n",
      "chrF2 = 57.37\n"
     ]
    }
   ],
   "source": [
    "print(bleu.corpus_score(results, [ref]))\n",
    "print(chrf.corpus_score(results, [ref]))"
   ]
  }
 ],
 "metadata": {
  "kernelspec": {
   "display_name": "Python 3 (ipykernel)",
   "language": "python",
   "name": "python3"
  },
  "language_info": {
   "codemirror_mode": {
    "name": "ipython",
    "version": 3
   },
   "file_extension": ".py",
   "mimetype": "text/x-python",
   "name": "python",
   "nbconvert_exporter": "python",
   "pygments_lexer": "ipython3",
   "version": "3.11.11"
  }
 },
 "nbformat": 4,
 "nbformat_minor": 5
}
