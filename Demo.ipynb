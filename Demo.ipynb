{
 "cells": [
  {
   "cell_type": "markdown",
   "id": "bf9bb270-36a6-4d4d-a78c-aebf27a5f323",
   "metadata": {},
   "source": [
    "# `quickmt` Demo"
   ]
  },
  {
   "cell_type": "code",
   "execution_count": null,
   "id": "c348ffbd-6941-41ff-a2ac-93656314e087",
   "metadata": {},
   "outputs": [],
   "source": [
    "from pathlib import Path\n",
    "\n",
    "import datasets\n",
    "from sacrebleu import BLEU, CHRF\n",
    "\n",
    "from quickmt import Translator"
   ]
  },
  {
   "cell_type": "code",
   "execution_count": null,
   "id": "b3de5d93-7324-424f-b4a5-82b22b998113",
   "metadata": {},
   "outputs": [],
   "source": [
    "# For GPU inference\n",
    "t = Translator(\"./quickmt-zh-en\", device=\"cuda\", intra_threads=1, inter_threads=1)"
   ]
  },
  {
   "cell_type": "code",
   "execution_count": null,
   "id": "31872185-d344-46d3-86cb-efb3b3702d35",
   "metadata": {},
   "outputs": [],
   "source": [
    "# For CPU inference, for low latency, set intra_threads equal to your number of cores\n",
    "# For CPU inference, for bulk translation, set inter_threads equal to your number of cores\n",
    "t = Translator(\"./quickmt-zh-en\", device=\"cpu\", intra_threads=6, inter_threads=1)"
   ]
  },
  {
   "cell_type": "code",
   "execution_count": null,
   "id": "7ce6672f-cc53-4169-b9cc-6bdc686f08da",
   "metadata": {},
   "outputs": [],
   "source": [
    "# Can input a string\n",
    "t(\"他补充道：“我们现在有 4 个月大没有糖尿病的老鼠，但它们曾经得过该病。”\", beam_size=5)"
   ]
  },
  {
   "cell_type": "code",
   "execution_count": null,
   "id": "70abd199-ebfe-4584-b1ca-f5459c3ccb42",
   "metadata": {},
   "outputs": [],
   "source": [
    "# Or a list of strings\n",
    "# Change max_batch_size so that batches will fit in RAM on your machine\n",
    "t([\"他补充道：“我们现在有 4 个月大没有糖尿病的老鼠，但它们曾经得过该病。”\"]*8, beam_size=5, max_batch_size=8)"
   ]
  },
  {
   "cell_type": "code",
   "execution_count": null,
   "id": "ef234b72-54ed-42e8-9d40-f9263f2f861c",
   "metadata": {},
   "outputs": [],
   "source": [
    "# Get alternative translations by sampling\n",
    "# Can pass any CTranslate2 Translator.translate_batch arguments\n",
    "# See https://opennmt.net/CTranslate2/python/ctranslate2.Translator.html#ctranslate2.Translator.translate_batch\n",
    "t([\"他补充道：“我们现在有 4 个月大没有糖尿病的老鼠，但它们曾经得过该病。”\"], sampling_temperature=0.8, beam_size=1, sampling_topk=50, sampling_topp=0.99)"
   ]
  },
  {
   "cell_type": "markdown",
   "id": "f14a9fa0-9d18-41eb-bb8c-28686f77a02f",
   "metadata": {},
   "source": [
    "## Evaluate on flores-devtest"
   ]
  },
  {
   "cell_type": "code",
   "execution_count": null,
   "id": "73ff5ffd-8c25-406d-95d7-c71d351a1500",
   "metadata": {},
   "outputs": [],
   "source": [
    "bleu = BLEU()\n",
    "chrf = CHRF()\n",
    "src_lang = \"zho_Hans\"\n",
    "tgt_lang = \"eng_Latn\"\n",
    "\n",
    "try:\n",
    "    flores = datasets.load_dataset(\n",
    "        \"facebook/flores\",\n",
    "        f\"{src_lang}-{tgt_lang}\",  # trust_remote_code=True\n",
    "    )\n",
    "except:\n",
    "    flores = datasets.load_dataset(\n",
    "        \"facebook/flores\",\n",
    "        f\"{tgt_lang}-{src_lang}\",  # trust_remote_code=True\n",
    "    )\n",
    "\n",
    "src = []\n",
    "ref = []\n",
    "for i in flores[\"devtest\"]:\n",
    "    src.append(i[f\"sentence_{src_lang}\"])\n",
    "    ref.append(i[f\"sentence_{tgt_lang}\"])"
   ]
  },
  {
   "cell_type": "code",
   "execution_count": null,
   "id": "6c337d4b-075d-4da2-baa8-366722331586",
   "metadata": {},
   "outputs": [],
   "source": [
    "results = t(src, beam_size=1)"
   ]
  },
  {
   "cell_type": "code",
   "execution_count": null,
   "id": "eba54f2a-5491-47f5-9281-e878adaadb26",
   "metadata": {},
   "outputs": [],
   "source": [
    "results[:5]"
   ]
  },
  {
   "cell_type": "code",
   "execution_count": null,
   "id": "482ae3b0-3e65-4643-a71b-0decfff0e0d7",
   "metadata": {},
   "outputs": [],
   "source": [
    "print(bleu.corpus_score(results, [ref]))\n",
    "print(chrf.corpus_score(results, [ref]))"
   ]
  }
 ],
 "metadata": {
  "kernelspec": {
   "display_name": "Python 3 (ipykernel)",
   "language": "python",
   "name": "python3"
  },
  "language_info": {
   "codemirror_mode": {
    "name": "ipython",
    "version": 3
   },
   "file_extension": ".py",
   "mimetype": "text/x-python",
   "name": "python",
   "nbconvert_exporter": "python",
   "pygments_lexer": "ipython3",
   "version": "3.10.16"
  }
 },
 "nbformat": 4,
 "nbformat_minor": 5
}
