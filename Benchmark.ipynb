{
 "cells": [
  {
   "cell_type": "markdown",
   "id": "3122a81c-283c-4971-ac2a-c4c65a624ed9",
   "metadata": {},
   "source": [
    "# `quickmt` Benchmark"
   ]
  },
  {
   "cell_type": "code",
   "execution_count": 1,
   "id": "ea56cf71-06ed-4ee0-bfaf-c202fd8c2eea",
   "metadata": {},
   "outputs": [
    {
     "name": "stderr",
     "output_type": "stream",
     "text": [
      "/home/mark/miniforge3/lib/python3.12/site-packages/tqdm/auto.py:21: TqdmWarning: IProgress not found. Please update jupyter and ipywidgets. See https://ipywidgets.readthedocs.io/en/stable/user_install.html\n",
      "  from .autonotebook import tqdm as notebook_tqdm\n"
     ]
    }
   ],
   "source": [
    "from time import time\n",
    "\n",
    "import datasets\n",
    "from fire import Fire\n",
    "from sacrebleu import BLEU, CHRF, TER\n",
    "\n",
    "from quickmt import Translator, OpusmtTranslator, NllbTranslator, M2m100Translator"
   ]
  },
  {
   "cell_type": "code",
   "execution_count": 2,
   "id": "1dec07dd-3e56-4c74-b0c9-5ac445041b3e",
   "metadata": {},
   "outputs": [],
   "source": [
    "bleu = BLEU()\n",
    "chrf = CHRF()\n",
    "ter = TER()"
   ]
  },
  {
   "cell_type": "code",
   "execution_count": 3,
   "id": "467bb6fc-6d4d-4c69-a9ba-ff52f2259c76",
   "metadata": {},
   "outputs": [],
   "source": [
    "src_lang = \"fr\"\n",
    "tgt_lang = \"en\"\n",
    "src_lang_flores = \"fra_Latn\"\n",
    "tgt_lang_flores = \"eng_Latn\""
   ]
  },
  {
   "cell_type": "code",
   "execution_count": 4,
   "id": "4c7ffe9f-f9bf-4349-843c-4e4308b5d28c",
   "metadata": {},
   "outputs": [],
   "source": [
    "try:\n",
    "    flores = datasets.load_dataset(\n",
    "        \"facebook/flores\",\n",
    "        f\"{src_lang_flores}-{tgt_lang_flores}\",\n",
    "    )\n",
    "except:\n",
    "    flores = datasets.load_dataset(\n",
    "        \"facebook/flores\",\n",
    "        f\"{tgt_lang_flores}-{src_lang_flores}\",\n",
    "    )\n",
    "\n",
    "src = []\n",
    "ref = []\n",
    "for i in flores[\"devtest\"]:\n",
    "    src.append(i[f\"sentence_{src_lang_flores}\"])\n",
    "    ref.append(i[f\"sentence_{tgt_lang_flores}\"])\n"
   ]
  },
  {
   "cell_type": "code",
   "execution_count": 5,
   "id": "366bdc3a-a8e5-4b98-8179-111e53196809",
   "metadata": {
    "scrolled": true
   },
   "outputs": [],
   "source": [
    "with open(f\"flores.{src_lang}\", \"wt\") as myfile:\n",
    "    myfile.write(\"\".join([i+\"\\n\" for i in src]))\n",
    "with open(f\"flores.{tgt_lang}\", \"wt\") as myfile:\n",
    "    myfile.write(\"\".join([i+\"\\n\" for i in ref]))"
   ]
  },
  {
   "cell_type": "markdown",
   "id": "28cc5a3c-4794-4fa4-9048-0fb472d9ecb8",
   "metadata": {},
   "source": [
    "## Quickmt"
   ]
  },
  {
   "cell_type": "code",
   "execution_count": 6,
   "id": "d91cc6a3-7085-4b51-b383-d48dd46b023a",
   "metadata": {},
   "outputs": [],
   "source": [
    "translator = Translator(\n",
    "    model_path=\"../quickmt-models/quickmt-fr-en\",\n",
    "    device=\"cuda\"\n",
    ")"
   ]
  },
  {
   "cell_type": "code",
   "execution_count": 7,
   "id": "62ab5a53-8954-4971-a16e-26915c6ced23",
   "metadata": {},
   "outputs": [
    {
     "name": "stdout",
     "output_type": "stream",
     "text": [
      "Translation time: 1.1925811767578125\n",
      "CPU times: user 3.39 s, sys: 550 ms, total: 3.94 s\n",
      "Wall time: 1.26 s\n"
     ]
    }
   ],
   "source": [
    "%%time\n",
    "mt = translator(src, max_batch_size=32)"
   ]
  },
  {
   "cell_type": "code",
   "execution_count": 8,
   "id": "2abf3f12-ac9c-421b-aac9-532de38411c0",
   "metadata": {},
   "outputs": [
    {
     "name": "stdout",
     "output_type": "stream",
     "text": [
      "BLEU = 36.73 67.2/43.2/29.8/21.0 (BP = 1.000 ratio = 1.030 hyp_len = 25462 ref_len = 24721)\n",
      "chrF2 = 63.17\n",
      "TER = 47.98\n"
     ]
    }
   ],
   "source": [
    "print(bleu.corpus_score(mt, [ref]))\n",
    "print(chrf.corpus_score(mt, [ref]))\n",
    "print(ter.corpus_score(mt, [ref]))"
   ]
  },
  {
   "cell_type": "code",
   "execution_count": 9,
   "id": "97bddcc7-4e9b-4efa-bd7c-c1f71978d9d2",
   "metadata": {},
   "outputs": [],
   "source": [
    "with open(f\"quickmt.{tgt_lang}\", \"wt\") as myfile:\n",
    "    myfile.write(\"\".join([i+\"\\n\" for i in mt]))"
   ]
  },
  {
   "cell_type": "code",
   "execution_count": 10,
   "id": "7a730621-06cf-4c6f-b4eb-12953cf9efe2",
   "metadata": {},
   "outputs": [
    {
     "name": "stdout",
     "output_type": "stream",
     "text": [
      "Seed set to 1\n",
      "Fetching 5 files: 100%|████████████████████████| 5/5 [00:00<00:00, 86659.17it/s]\n",
      "Lightning automatically upgraded your loaded checkpoint from v1.8.3.post1 to v2.5.0.post0. To apply the upgrade to your files permanently, run `python -m pytorch_lightning.utilities.upgrade_checkpoint ../../../../../home/mark/.cache/huggingface/hub/models--Unbabel--wmt22-comet-da/snapshots/f49d328952c3470eff6bb6f545d62bfdb6e66304/checkpoints/model.ckpt`\n",
      "Encoder model frozen.\n",
      "/home/mark/miniforge3/envs/comet/lib/python3.11/site-packages/pytorch_lightning/core/saving.py:195: Found keys that are not in the model state dict but in the checkpoint: ['encoder.model.embeddings.position_ids']\n",
      "GPU available: True (cuda), used: True\n",
      "TPU available: False, using: 0 TPU cores\n",
      "HPU available: False, using: 0 HPUs\n",
      "LOCAL_RANK: 0 - CUDA_VISIBLE_DEVICES: [0]\n",
      "Predicting DataLoader 0: 100%|██████████████████| 32/32 [00:03<00:00,  8.53it/s]\n",
      "quickmt.en\tscore: 0.8408\n"
     ]
    }
   ],
   "source": [
    "! ~/miniforge3/envs/comet/bin/comet-score -s flores.{src_lang} -r flores.{tgt_lang} -t quickmt.{tgt_lang} --batch_size 32 --only_system "
   ]
  },
  {
   "cell_type": "code",
   "execution_count": null,
   "id": "e7eb83f3-1575-4eac-b9a6-b433cf8c4cc2",
   "metadata": {},
   "outputs": [],
   "source": []
  },
  {
   "cell_type": "markdown",
   "id": "e309f9ed-9a62-470c-9be6-d8923dd9e8b6",
   "metadata": {},
   "source": [
    "## OpusMT\n",
    "\n",
    "Be sure to export the models to `ctranslate2` format first, e.g.\n",
    "\n",
    "```bash\n",
    "ct2-transformers-converter --model Helsinki-NLP/opus-mt-fr-en --output_dir ../ct2-models/opus-mt-fr-en-ct2\n",
    "```\n"
   ]
  },
  {
   "cell_type": "code",
   "execution_count": 11,
   "id": "e5a72561-6e4f-4201-92ea-02e21b24d6d6",
   "metadata": {},
   "outputs": [],
   "source": [
    "translator = OpusmtTranslator(\n",
    "    model_path=\"../ct2-models/opus-mt-fr-en-ct2\",\n",
    "    model_string=\"Helsinki-NLP/opus-mt-fr-en\",\n",
    "    device=\"cuda\"\n",
    ")"
   ]
  },
  {
   "cell_type": "code",
   "execution_count": 12,
   "id": "c7d34ff3-dc62-40ed-a4c0-028693ea8040",
   "metadata": {},
   "outputs": [
    {
     "name": "stdout",
     "output_type": "stream",
     "text": [
      "Translation time: 3.182037115097046\n",
      "CPU times: user 9.62 s, sys: 1.69 s, total: 11.3 s\n",
      "Wall time: 3.61 s\n"
     ]
    }
   ],
   "source": [
    "%%time\n",
    "mt = translator(src)"
   ]
  },
  {
   "cell_type": "code",
   "execution_count": 13,
   "id": "f328ec30-d8ee-4f48-930f-6af04f8c7629",
   "metadata": {},
   "outputs": [
    {
     "name": "stdout",
     "output_type": "stream",
     "text": [
      "BLEU = 41.71 70.7/48.0/34.7/25.7 (BP = 1.000 ratio = 1.029 hyp_len = 25433 ref_len = 24721)\n",
      "chrF2 = 66.85\n",
      "TER = 43.52\n"
     ]
    }
   ],
   "source": [
    "print(bleu.corpus_score(mt, [ref]))\n",
    "print(chrf.corpus_score(mt, [ref]))\n",
    "print(ter.corpus_score(mt, [ref]))"
   ]
  },
  {
   "cell_type": "code",
   "execution_count": 14,
   "id": "a2204c3f-de17-4295-a19d-0758b6a62608",
   "metadata": {},
   "outputs": [],
   "source": [
    "with open(f\"opusmt.{tgt_lang}\", \"wt\") as myfile:\n",
    "    myfile.write(\"\".join([i+\"\\n\" for i in mt]))"
   ]
  },
  {
   "cell_type": "code",
   "execution_count": 15,
   "id": "bcb6a52e-3a8f-4acd-a363-1c7aeaeab033",
   "metadata": {},
   "outputs": [
    {
     "name": "stdout",
     "output_type": "stream",
     "text": [
      "Seed set to 1\n",
      "Fetching 5 files: 100%|████████████████████████| 5/5 [00:00<00:00, 63167.23it/s]\n",
      "Lightning automatically upgraded your loaded checkpoint from v1.8.3.post1 to v2.5.0.post0. To apply the upgrade to your files permanently, run `python -m pytorch_lightning.utilities.upgrade_checkpoint ../../../../../home/mark/.cache/huggingface/hub/models--Unbabel--wmt22-comet-da/snapshots/f49d328952c3470eff6bb6f545d62bfdb6e66304/checkpoints/model.ckpt`\n",
      "Encoder model frozen.\n",
      "/home/mark/miniforge3/envs/comet/lib/python3.11/site-packages/pytorch_lightning/core/saving.py:195: Found keys that are not in the model state dict but in the checkpoint: ['encoder.model.embeddings.position_ids']\n",
      "GPU available: True (cuda), used: True\n",
      "TPU available: False, using: 0 TPU cores\n",
      "HPU available: False, using: 0 HPUs\n",
      "LOCAL_RANK: 0 - CUDA_VISIBLE_DEVICES: [0]\n",
      "Predicting DataLoader 0: 100%|██████████████████| 32/32 [00:03<00:00,  8.50it/s]\n",
      "opusmt.en\tscore: 0.8831\n"
     ]
    }
   ],
   "source": [
    "! ~/miniforge3/envs/comet/bin/comet-score -s flores.{src_lang} -r flores.{tgt_lang} -t opusmt.{tgt_lang} --batch_size 32 --only_system "
   ]
  },
  {
   "cell_type": "code",
   "execution_count": null,
   "id": "2319e54f-376d-4107-b3ae-5a7615424b37",
   "metadata": {},
   "outputs": [],
   "source": []
  },
  {
   "cell_type": "markdown",
   "id": "f5e47e29-c72e-4f28-9bc6-4165b7dca0fb",
   "metadata": {},
   "source": [
    "## NLLB-600M\n",
    "\n",
    "Be sure to export the models to `ctranslate2` format first, e.g.\n",
    "\n",
    "```bash\n",
    "ct2-transformers-converter --model facebook/nllb-200-distilled-600M --output_dir ../ct2-models/nllb-200-distilled-600M-ct2\n",
    "```"
   ]
  },
  {
   "cell_type": "code",
   "execution_count": 16,
   "id": "e5aded02-1c88-4d75-8c4f-d1cda735df71",
   "metadata": {},
   "outputs": [],
   "source": [
    "translator = NllbTranslator(\n",
    "    model_path=\"../ct2-models/nllb-200-distilled-600M-ct2\",\n",
    "    device=\"cuda\"\n",
    ")"
   ]
  },
  {
   "cell_type": "code",
   "execution_count": 17,
   "id": "b65c1ecd-d7a8-48b6-9ee0-747a9413b71a",
   "metadata": {},
   "outputs": [
    {
     "name": "stdout",
     "output_type": "stream",
     "text": [
      "Translation time: 21.47916865348816\n",
      "CPU times: user 23.9 s, sys: 16.1 s, total: 39.9 s\n",
      "Wall time: 21.7 s\n"
     ]
    }
   ],
   "source": [
    "%%time\n",
    "mt = translator(src, src_lang=src_lang_flores, tgt_lang=tgt_lang_flores)"
   ]
  },
  {
   "cell_type": "code",
   "execution_count": 18,
   "id": "ddf19ea9-5259-464a-b83e-568d6909f537",
   "metadata": {},
   "outputs": [
    {
     "name": "stdout",
     "output_type": "stream",
     "text": [
      "BLEU = 44.04 72.1/50.2/37.1/28.0 (BP = 1.000 ratio = 1.006 hyp_len = 24862 ref_len = 24721)\n",
      "chrF2 = 67.82\n",
      "TER = 41.93\n"
     ]
    }
   ],
   "source": [
    "print(bleu.corpus_score(mt, [ref]))\n",
    "print(chrf.corpus_score(mt, [ref]))\n",
    "print(ter.corpus_score(mt, [ref]))"
   ]
  },
  {
   "cell_type": "code",
   "execution_count": 19,
   "id": "ea20271c-abd5-4279-adc3-749644635e7b",
   "metadata": {},
   "outputs": [],
   "source": [
    "with open(f\"nllb-600m.{tgt_lang}\", \"wt\") as myfile:\n",
    "    myfile.write(\"\".join([i+\"\\n\" for i in mt]))"
   ]
  },
  {
   "cell_type": "code",
   "execution_count": 20,
   "id": "3003ac99-9ae9-49e5-85d9-11210b7d1de9",
   "metadata": {},
   "outputs": [
    {
     "name": "stderr",
     "output_type": "stream",
     "text": [
      "huggingface/tokenizers: The current process just got forked, after parallelism has already been used. Disabling parallelism to avoid deadlocks...\n",
      "To disable this warning, you can either:\n",
      "\t- Avoid using `tokenizers` before the fork if possible\n",
      "\t- Explicitly set the environment variable TOKENIZERS_PARALLELISM=(true | false)\n"
     ]
    },
    {
     "name": "stdout",
     "output_type": "stream",
     "text": [
      "Seed set to 1\n",
      "Fetching 5 files: 100%|███████████████████████| 5/5 [00:00<00:00, 104335.92it/s]\n",
      "Lightning automatically upgraded your loaded checkpoint from v1.8.3.post1 to v2.5.0.post0. To apply the upgrade to your files permanently, run `python -m pytorch_lightning.utilities.upgrade_checkpoint ../../../../../home/mark/.cache/huggingface/hub/models--Unbabel--wmt22-comet-da/snapshots/f49d328952c3470eff6bb6f545d62bfdb6e66304/checkpoints/model.ckpt`\n",
      "Encoder model frozen.\n",
      "/home/mark/miniforge3/envs/comet/lib/python3.11/site-packages/pytorch_lightning/core/saving.py:195: Found keys that are not in the model state dict but in the checkpoint: ['encoder.model.embeddings.position_ids']\n",
      "GPU available: True (cuda), used: True\n",
      "TPU available: False, using: 0 TPU cores\n",
      "HPU available: False, using: 0 HPUs\n",
      "LOCAL_RANK: 0 - CUDA_VISIBLE_DEVICES: [0]\n",
      "Predicting DataLoader 0: 100%|██████████████████| 32/32 [00:03<00:00,  8.69it/s]\n",
      "nllb-600m.en\tscore: 0.8847\n"
     ]
    }
   ],
   "source": [
    "! ~/miniforge3/envs/comet/bin/comet-score -s flores.{src_lang} -r flores.{tgt_lang} -t nllb-600m.{tgt_lang} --batch_size 32 --only_system "
   ]
  },
  {
   "cell_type": "code",
   "execution_count": null,
   "id": "308eac41-d7b7-4b93-b753-7c1c2a6f56e4",
   "metadata": {},
   "outputs": [],
   "source": []
  },
  {
   "cell_type": "markdown",
   "id": "28072ed5-f0db-4e07-aeeb-adbe236cd6a5",
   "metadata": {},
   "source": [
    "## NLLB-1.3B\n",
    "\n",
    "Be sure to export the models to `ctranslate2` format first, e.g.\n",
    "\n",
    "```bash\n",
    "ct2-transformers-converter --model facebook/nllb-200-distilled-1.3B --output_dir ../ct2-models/nllb-200-distilled-1.3B-ct2\n",
    "```"
   ]
  },
  {
   "cell_type": "code",
   "execution_count": 21,
   "id": "e42d0d09-d5a6-49c9-b976-b441916ca173",
   "metadata": {},
   "outputs": [],
   "source": [
    "translator = NllbTranslator(\n",
    "    model_path=\"../ct2-models/nllb-200-distilled-1.3B-ct2\",\n",
    "    device=\"cuda\"\n",
    ")"
   ]
  },
  {
   "cell_type": "code",
   "execution_count": 22,
   "id": "6eba06a2-1852-40e1-9fdf-67661b907fed",
   "metadata": {},
   "outputs": [
    {
     "name": "stdout",
     "output_type": "stream",
     "text": [
      "Translation time: 36.86673855781555\n",
      "CPU times: user 28.3 s, sys: 27.2 s, total: 55.5 s\n",
      "Wall time: 37.1 s\n"
     ]
    }
   ],
   "source": [
    "%%time\n",
    "mt = translator(src, src_lang=src_lang_flores, tgt_lang=tgt_lang_flores)"
   ]
  },
  {
   "cell_type": "code",
   "execution_count": 23,
   "id": "f5174f7a-578f-4ce6-aac5-04ea0686b0a4",
   "metadata": {},
   "outputs": [
    {
     "name": "stdout",
     "output_type": "stream",
     "text": [
      "BLEU = 46.22 73.7/52.5/39.3/30.0 (BP = 1.000 ratio = 1.001 hyp_len = 24744 ref_len = 24721)\n",
      "chrF2 = 69.30\n",
      "TER = 39.82\n"
     ]
    }
   ],
   "source": [
    "print(bleu.corpus_score(mt, [ref]))\n",
    "print(chrf.corpus_score(mt, [ref]))\n",
    "print(ter.corpus_score(mt, [ref]))"
   ]
  },
  {
   "cell_type": "code",
   "execution_count": 24,
   "id": "176cdc04-130f-4c12-82ae-04ed54bc22b6",
   "metadata": {},
   "outputs": [],
   "source": [
    "with open(f\"nllb-1.3b.{tgt_lang}\", \"wt\") as myfile:\n",
    "    myfile.write(\"\".join([i+\"\\n\" for i in mt]))"
   ]
  },
  {
   "cell_type": "code",
   "execution_count": 25,
   "id": "5ddc5ce4-2af7-43f0-a3a1-0bd0be747e79",
   "metadata": {},
   "outputs": [
    {
     "name": "stderr",
     "output_type": "stream",
     "text": [
      "huggingface/tokenizers: The current process just got forked, after parallelism has already been used. Disabling parallelism to avoid deadlocks...\n",
      "To disable this warning, you can either:\n",
      "\t- Avoid using `tokenizers` before the fork if possible\n",
      "\t- Explicitly set the environment variable TOKENIZERS_PARALLELISM=(true | false)\n"
     ]
    },
    {
     "name": "stdout",
     "output_type": "stream",
     "text": [
      "Seed set to 1\n",
      "Fetching 5 files: 100%|████████████████████████| 5/5 [00:00<00:00, 84904.94it/s]\n",
      "Lightning automatically upgraded your loaded checkpoint from v1.8.3.post1 to v2.5.0.post0. To apply the upgrade to your files permanently, run `python -m pytorch_lightning.utilities.upgrade_checkpoint ../../../../../home/mark/.cache/huggingface/hub/models--Unbabel--wmt22-comet-da/snapshots/f49d328952c3470eff6bb6f545d62bfdb6e66304/checkpoints/model.ckpt`\n",
      "Encoder model frozen.\n",
      "/home/mark/miniforge3/envs/comet/lib/python3.11/site-packages/pytorch_lightning/core/saving.py:195: Found keys that are not in the model state dict but in the checkpoint: ['encoder.model.embeddings.position_ids']\n",
      "GPU available: True (cuda), used: True\n",
      "TPU available: False, using: 0 TPU cores\n",
      "HPU available: False, using: 0 HPUs\n",
      "LOCAL_RANK: 0 - CUDA_VISIBLE_DEVICES: [0]\n",
      "Predicting DataLoader 0: 100%|██████████████████| 32/32 [00:03<00:00,  8.86it/s]\n",
      "nllb-1.3b.en\tscore: 0.8924\n"
     ]
    }
   ],
   "source": [
    "! ~/miniforge3/envs/comet/bin/comet-score -s flores.{src_lang} -r flores.{tgt_lang} -t nllb-1.3b.{tgt_lang} --batch_size 32 --only_system "
   ]
  },
  {
   "cell_type": "code",
   "execution_count": null,
   "id": "217aeb14-5f2c-488a-aef4-f46224cc99e0",
   "metadata": {},
   "outputs": [],
   "source": []
  },
  {
   "cell_type": "markdown",
   "id": "96d99538-8f7b-44ea-9d16-0026c162cc3f",
   "metadata": {},
   "source": [
    "## M2M100-418M\n",
    "\n",
    "Be sure to export the models to `ctranslate2` format first, e.g.\n",
    "\n",
    "```bash\n",
    "ct2-transformers-converter --model facebook/m2m100_418M --output_dir ../ct2-models/m2m100_418-ct2/\n",
    "ct2-transformers-converter --model facebook/m2m100_1.2B --output_dir ../ct2-models/m2m100_1.2B-ct2/\n",
    "```"
   ]
  },
  {
   "cell_type": "code",
   "execution_count": 26,
   "id": "774bf94d-25a4-4988-8dbe-e6a4203e1542",
   "metadata": {},
   "outputs": [],
   "source": [
    "translator = M2m100Translator(\n",
    "    model_path=\"../ct2-models/m2m100_418-ct2/\",\n",
    "    device=\"cuda\"\n",
    ")"
   ]
  },
  {
   "cell_type": "code",
   "execution_count": 27,
   "id": "b1f71877-1238-411a-aba7-f5c0709d46c6",
   "metadata": {},
   "outputs": [
    {
     "name": "stdout",
     "output_type": "stream",
     "text": [
      "Translation time: 15.773196697235107\n",
      "CPU times: user 25.1 s, sys: 11.1 s, total: 36.2 s\n",
      "Wall time: 18 s\n"
     ]
    }
   ],
   "source": [
    "%%time\n",
    "mt = translator(src, src_lang=src_lang, tgt_lang=tgt_lang)"
   ]
  },
  {
   "cell_type": "code",
   "execution_count": 28,
   "id": "8a91b475-98d1-4e25-af05-f9d8a4434e48",
   "metadata": {},
   "outputs": [
    {
     "name": "stdout",
     "output_type": "stream",
     "text": [
      "BLEU = 36.49 66.8/43.0/29.6/20.9 (BP = 1.000 ratio = 1.042 hyp_len = 25771 ref_len = 24721)\n",
      "chrF2 = 63.29\n",
      "TER = 48.28\n"
     ]
    }
   ],
   "source": [
    "print(bleu.corpus_score(mt, [ref]))\n",
    "print(chrf.corpus_score(mt, [ref]))\n",
    "print(ter.corpus_score(mt, [ref]))"
   ]
  },
  {
   "cell_type": "code",
   "execution_count": 29,
   "id": "34be7063-9fdb-404c-a760-d7b4f7f3d3e6",
   "metadata": {},
   "outputs": [],
   "source": [
    "with open(f\"m2m100-418m.{tgt_lang}\", \"wt\") as myfile:\n",
    "    myfile.write(\"\".join([i+\"\\n\" for i in mt]))"
   ]
  },
  {
   "cell_type": "code",
   "execution_count": 30,
   "id": "960c228a-436e-4e91-86c4-235a4aa35b61",
   "metadata": {},
   "outputs": [
    {
     "name": "stderr",
     "output_type": "stream",
     "text": [
      "huggingface/tokenizers: The current process just got forked, after parallelism has already been used. Disabling parallelism to avoid deadlocks...\n",
      "To disable this warning, you can either:\n",
      "\t- Avoid using `tokenizers` before the fork if possible\n",
      "\t- Explicitly set the environment variable TOKENIZERS_PARALLELISM=(true | false)\n"
     ]
    },
    {
     "name": "stdout",
     "output_type": "stream",
     "text": [
      "Seed set to 1\n",
      "Fetching 5 files: 100%|███████████████████████| 5/5 [00:00<00:00, 103307.98it/s]\n",
      "Lightning automatically upgraded your loaded checkpoint from v1.8.3.post1 to v2.5.0.post0. To apply the upgrade to your files permanently, run `python -m pytorch_lightning.utilities.upgrade_checkpoint ../../../../../home/mark/.cache/huggingface/hub/models--Unbabel--wmt22-comet-da/snapshots/f49d328952c3470eff6bb6f545d62bfdb6e66304/checkpoints/model.ckpt`\n",
      "Encoder model frozen.\n",
      "/home/mark/miniforge3/envs/comet/lib/python3.11/site-packages/pytorch_lightning/core/saving.py:195: Found keys that are not in the model state dict but in the checkpoint: ['encoder.model.embeddings.position_ids']\n",
      "GPU available: True (cuda), used: True\n",
      "TPU available: False, using: 0 TPU cores\n",
      "HPU available: False, using: 0 HPUs\n",
      "LOCAL_RANK: 0 - CUDA_VISIBLE_DEVICES: [0]\n",
      "Predicting DataLoader 0: 100%|██████████████████| 32/32 [00:03<00:00,  8.87it/s]\n",
      "m2m100-418m.en\tscore: 0.8587\n"
     ]
    }
   ],
   "source": [
    "! ~/miniforge3/envs/comet/bin/comet-score -s flores.{src_lang} -r flores.{tgt_lang} -t m2m100-418m.{tgt_lang} --batch_size 32 --only_system "
   ]
  },
  {
   "cell_type": "code",
   "execution_count": null,
   "id": "b132a8af-5944-4481-9f4e-ba7fc48a21af",
   "metadata": {},
   "outputs": [],
   "source": []
  },
  {
   "cell_type": "markdown",
   "id": "425cff99-a65b-4df2-8e8a-b265cc148375",
   "metadata": {},
   "source": [
    "## M2M100-1.2B\n",
    "\n",
    "Be sure to export the models to `ctranslate2` format first, e.g.\n",
    "\n",
    "```bash\n",
    "ct2-transformers-converter --model facebook/m2m100_1.2B --output_dir ../ct2-models/m2m100_1.2B-ct2/\n",
    "```"
   ]
  },
  {
   "cell_type": "code",
   "execution_count": 31,
   "id": "74b74474-235d-4406-aecb-5c69f98461f7",
   "metadata": {},
   "outputs": [],
   "source": [
    "translator = M2m100Translator(\n",
    "    model_path=\"../ct2-models/m2m100_1.2B-ct2/\",\n",
    "    device=\"cuda\"\n",
    ")"
   ]
  },
  {
   "cell_type": "code",
   "execution_count": 32,
   "id": "e28d0645-3b9f-4596-926d-1e1188a86690",
   "metadata": {},
   "outputs": [
    {
     "name": "stdout",
     "output_type": "stream",
     "text": [
      "Translation time: 32.46005296707153\n",
      "CPU times: user 31.3 s, sys: 23.1 s, total: 54.5 s\n",
      "Wall time: 34.6 s\n"
     ]
    }
   ],
   "source": [
    "%%time\n",
    "mt = translator(src, src_lang=src_lang, tgt_lang=tgt_lang)"
   ]
  },
  {
   "cell_type": "code",
   "execution_count": 33,
   "id": "c1d0d7dd-dcf0-4d5d-bb45-70f0cf96ed5f",
   "metadata": {},
   "outputs": [
    {
     "name": "stdout",
     "output_type": "stream",
     "text": [
      "BLEU = 41.69 70.5/47.9/34.7/25.8 (BP = 1.000 ratio = 1.022 hyp_len = 25259 ref_len = 24721)\n",
      "chrF2 = 66.51\n",
      "TER = 43.40\n"
     ]
    }
   ],
   "source": [
    "print(bleu.corpus_score(mt, [ref]))\n",
    "print(chrf.corpus_score(mt, [ref]))\n",
    "print(ter.corpus_score(mt, [ref]))"
   ]
  },
  {
   "cell_type": "code",
   "execution_count": 34,
   "id": "fa6864f8-87a4-4437-9e8c-eba3dfaf3414",
   "metadata": {},
   "outputs": [],
   "source": [
    "with open(f\"m2m100-1.2B.{tgt_lang}\", \"wt\") as myfile:\n",
    "    myfile.write(\"\".join([i+\"\\n\" for i in mt]))"
   ]
  },
  {
   "cell_type": "code",
   "execution_count": 35,
   "id": "dd26294a-739d-4a11-8606-e0a8a79f012b",
   "metadata": {},
   "outputs": [
    {
     "name": "stderr",
     "output_type": "stream",
     "text": [
      "huggingface/tokenizers: The current process just got forked, after parallelism has already been used. Disabling parallelism to avoid deadlocks...\n",
      "To disable this warning, you can either:\n",
      "\t- Avoid using `tokenizers` before the fork if possible\n",
      "\t- Explicitly set the environment variable TOKENIZERS_PARALLELISM=(true | false)\n"
     ]
    },
    {
     "name": "stdout",
     "output_type": "stream",
     "text": [
      "Seed set to 1\n",
      "Fetching 5 files: 100%|████████████████████████| 5/5 [00:00<00:00, 85948.85it/s]\n",
      "Lightning automatically upgraded your loaded checkpoint from v1.8.3.post1 to v2.5.0.post0. To apply the upgrade to your files permanently, run `python -m pytorch_lightning.utilities.upgrade_checkpoint ../../../../../home/mark/.cache/huggingface/hub/models--Unbabel--wmt22-comet-da/snapshots/f49d328952c3470eff6bb6f545d62bfdb6e66304/checkpoints/model.ckpt`\n",
      "Encoder model frozen.\n",
      "/home/mark/miniforge3/envs/comet/lib/python3.11/site-packages/pytorch_lightning/core/saving.py:195: Found keys that are not in the model state dict but in the checkpoint: ['encoder.model.embeddings.position_ids']\n",
      "GPU available: True (cuda), used: True\n",
      "TPU available: False, using: 0 TPU cores\n",
      "HPU available: False, using: 0 HPUs\n",
      "LOCAL_RANK: 0 - CUDA_VISIBLE_DEVICES: [0]\n",
      "Predicting DataLoader 0: 100%|██████████████████| 32/32 [00:03<00:00,  9.00it/s]\n",
      "m2m100-1.2B.en\tscore: 0.8800\n"
     ]
    }
   ],
   "source": [
    "! ~/miniforge3/envs/comet/bin/comet-score -s flores.{src_lang} -r flores.{tgt_lang} -t m2m100-1.2B.{tgt_lang} --batch_size 32 --only_system "
   ]
  },
  {
   "cell_type": "markdown",
   "id": "49b59bc4-7a7e-4922-a0b5-5f9baad16921",
   "metadata": {},
   "source": [
    "# fr->en Results\n",
    "\n",
    "| Model                            | chrf2 | bleu    | comet22 | Time (s) |\n",
    "| -------------------------------- | ----- | ------- | ------- | -------- |\n",
    "| quickmt/quickmt-fr-en            | 63.17 | 36.73   | 84.08   |  1.3     |\n",
    "| Helsinki-NLP/opus-mt-en-zh       | 66.85 | 41.71   | 88.31   |  3.6     |\n",
    "| facebook/m2m100_418M             | 63.29 | 36.49   | 85.87   | 18.0     |\n",
    "| facebook/m2m100_1.2B             | 66.51 | 41.69   | 88.00   | 34.6     |\n",
    "| facebook/nllb-200-distilled-600M | 67.82 | 44.04   | 88.47   | 21.7     |\n",
    "| facebook/nllb-200-distilled-1.3B | 69.30 | 46.22   | 89.24   | 37.1     |\n"
   ]
  }
 ],
 "metadata": {
  "kernelspec": {
   "display_name": "Python 3 (ipykernel)",
   "language": "python",
   "name": "python3"
  },
  "language_info": {
   "codemirror_mode": {
    "name": "ipython",
    "version": 3
   },
   "file_extension": ".py",
   "mimetype": "text/x-python",
   "name": "python",
   "nbconvert_exporter": "python",
   "pygments_lexer": "ipython3",
   "version": "3.12.8"
  }
 },
 "nbformat": 4,
 "nbformat_minor": 5
}
