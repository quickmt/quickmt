{
 "cells": [
  {
   "cell_type": "markdown",
   "id": "3122a81c-283c-4971-ac2a-c4c65a624ed9",
   "metadata": {},
   "source": [
    "# `quickmt` Benchmark"
   ]
  },
  {
   "cell_type": "code",
   "execution_count": 36,
   "id": "ea56cf71-06ed-4ee0-bfaf-c202fd8c2eea",
   "metadata": {},
   "outputs": [],
   "source": [
    "from time import time\n",
    "\n",
    "import datasets\n",
    "from fire import Fire\n",
    "from sacrebleu import BLEU, CHRF, TER\n",
    "\n",
    "from quickmt import Translator, OpusmtTranslator, NllbTranslator, M2m100Translator"
   ]
  },
  {
   "cell_type": "code",
   "execution_count": 37,
   "id": "1dec07dd-3e56-4c74-b0c9-5ac445041b3e",
   "metadata": {},
   "outputs": [],
   "source": [
    "bleu = BLEU()\n",
    "chrf = CHRF()\n",
    "ter = TER()"
   ]
  },
  {
   "cell_type": "code",
   "execution_count": 38,
   "id": "467bb6fc-6d4d-4c69-a9ba-ff52f2259c76",
   "metadata": {},
   "outputs": [],
   "source": [
    "src_lang = \"en\"\n",
    "tgt_lang = \"fr\"\n",
    "src_lang_flores = \"eng_Latn\"\n",
    "tgt_lang_flores = \"fra_Latn\""
   ]
  },
  {
   "cell_type": "code",
   "execution_count": 39,
   "id": "4c7ffe9f-f9bf-4349-843c-4e4308b5d28c",
   "metadata": {},
   "outputs": [],
   "source": [
    "try:\n",
    "    flores = datasets.load_dataset(\n",
    "        \"facebook/flores\",\n",
    "        f\"{src_lang_flores}-{tgt_lang_flores}\",\n",
    "    )\n",
    "except:\n",
    "    flores = datasets.load_dataset(\n",
    "        \"facebook/flores\",\n",
    "        f\"{tgt_lang_flores}-{src_lang_flores}\",\n",
    "    )\n",
    "\n",
    "src = []\n",
    "ref = []\n",
    "for i in flores[\"devtest\"]:\n",
    "    src.append(i[f\"sentence_{src_lang_flores}\"])\n",
    "    ref.append(i[f\"sentence_{tgt_lang_flores}\"])\n"
   ]
  },
  {
   "cell_type": "code",
   "execution_count": 40,
   "id": "366bdc3a-a8e5-4b98-8179-111e53196809",
   "metadata": {
    "scrolled": true
   },
   "outputs": [],
   "source": [
    "with open(f\"flores.{src_lang}\", \"wt\") as myfile:\n",
    "    myfile.write(\"\".join([i+\"\\n\" for i in src]))\n",
    "with open(f\"flores.{tgt_lang}\", \"wt\") as myfile:\n",
    "    myfile.write(\"\".join([i+\"\\n\" for i in ref]))"
   ]
  },
  {
   "cell_type": "markdown",
   "id": "28cc5a3c-4794-4fa4-9048-0fb472d9ecb8",
   "metadata": {},
   "source": [
    "## Quickmt"
   ]
  },
  {
   "cell_type": "code",
   "execution_count": 41,
   "id": "d91cc6a3-7085-4b51-b383-d48dd46b023a",
   "metadata": {},
   "outputs": [
    {
     "ename": "RuntimeError",
     "evalue": "Unable to open file 'model.bin' in model '../quickmt-models/quickmt-en-fr'",
     "output_type": "error",
     "traceback": [
      "\u001b[0;31m---------------------------------------------------------------------------\u001b[0m",
      "\u001b[0;31mRuntimeError\u001b[0m                              Traceback (most recent call last)",
      "Cell \u001b[0;32mIn[41], line 1\u001b[0m\n\u001b[0;32m----> 1\u001b[0m translator \u001b[38;5;241m=\u001b[39m \u001b[43mTranslator\u001b[49m\u001b[43m(\u001b[49m\n\u001b[1;32m      2\u001b[0m \u001b[43m    \u001b[49m\u001b[43mmodel_path\u001b[49m\u001b[38;5;241;43m=\u001b[39;49m\u001b[38;5;124;43m\"\u001b[39;49m\u001b[38;5;124;43m../quickmt-models/quickmt-en-fr\u001b[39;49m\u001b[38;5;124;43m\"\u001b[39;49m\u001b[43m,\u001b[49m\n\u001b[1;32m      3\u001b[0m \u001b[43m    \u001b[49m\u001b[38;5;66;43;03m#model_path=\"/home/mark/Downloads/ct2-enfr/\",\u001b[39;49;00m\n\u001b[1;32m      4\u001b[0m \u001b[43m    \u001b[49m\u001b[43mdevice\u001b[49m\u001b[38;5;241;43m=\u001b[39;49m\u001b[38;5;124;43m\"\u001b[39;49m\u001b[38;5;124;43mcuda\u001b[39;49m\u001b[38;5;124;43m\"\u001b[39;49m\n\u001b[1;32m      5\u001b[0m \u001b[43m)\u001b[49m\n",
      "File \u001b[0;32m/media/mark/nvme2022/mt/quickmt/quickmt/translator.py:186\u001b[0m, in \u001b[0;36mTranslator.__init__\u001b[0;34m(self, model_path, **kwargs)\u001b[0m\n\u001b[1;32m    179\u001b[0m \u001b[38;5;28;01mdef\u001b[39;00m\u001b[38;5;250m \u001b[39m\u001b[38;5;21m__init__\u001b[39m(\u001b[38;5;28mself\u001b[39m, model_path: DirectoryPath, \u001b[38;5;241m*\u001b[39m\u001b[38;5;241m*\u001b[39mkwargs):\n\u001b[1;32m    180\u001b[0m \u001b[38;5;250m    \u001b[39m\u001b[38;5;124;03m\"\"\"Create quickmt translation object\u001b[39;00m\n\u001b[1;32m    181\u001b[0m \n\u001b[1;32m    182\u001b[0m \u001b[38;5;124;03m    Args:\u001b[39;00m\n\u001b[1;32m    183\u001b[0m \u001b[38;5;124;03m        model_path (DirectoryPath): Path to quickmt model folder\u001b[39;00m\n\u001b[1;32m    184\u001b[0m \u001b[38;5;124;03m        **kwargs: CTranslate2 Translator arguments - see https://opennmt.net/CTranslate2/python/ctranslate2.Translator.html\u001b[39;00m\n\u001b[1;32m    185\u001b[0m \u001b[38;5;124;03m    \"\"\"\u001b[39;00m\n\u001b[0;32m--> 186\u001b[0m     \u001b[38;5;28;43msuper\u001b[39;49m\u001b[43m(\u001b[49m\u001b[43m)\u001b[49m\u001b[38;5;241;43m.\u001b[39;49m\u001b[38;5;21;43m__init__\u001b[39;49m\u001b[43m(\u001b[49m\u001b[43mmodel_path\u001b[49m\u001b[43m,\u001b[49m\u001b[43m \u001b[49m\u001b[38;5;241;43m*\u001b[39;49m\u001b[38;5;241;43m*\u001b[39;49m\u001b[43mkwargs\u001b[49m\u001b[43m)\u001b[49m\n\u001b[1;32m    187\u001b[0m     joint_tokenizer_path \u001b[38;5;241m=\u001b[39m \u001b[38;5;28mself\u001b[39m\u001b[38;5;241m.\u001b[39mmodel_path \u001b[38;5;241m/\u001b[39m \u001b[38;5;124m\"\u001b[39m\u001b[38;5;124mjoint.spm.model\u001b[39m\u001b[38;5;124m\"\u001b[39m\n\u001b[1;32m    188\u001b[0m     \u001b[38;5;28;01mif\u001b[39;00m joint_tokenizer_path\u001b[38;5;241m.\u001b[39mexists():\n",
      "File \u001b[0;32m/media/mark/nvme2022/mt/quickmt/quickmt/translator.py:21\u001b[0m, in \u001b[0;36mTranslatorABC.__init__\u001b[0;34m(self, model_path, **kwargs)\u001b[0m\n\u001b[1;32m     14\u001b[0m \u001b[38;5;250m\u001b[39m\u001b[38;5;124;03m\"\"\"Create quickmt translation object\u001b[39;00m\n\u001b[1;32m     15\u001b[0m \n\u001b[1;32m     16\u001b[0m \u001b[38;5;124;03mArgs:\u001b[39;00m\n\u001b[1;32m     17\u001b[0m \u001b[38;5;124;03m    model_path (DirectoryPath): Path to quickmt model folder\u001b[39;00m\n\u001b[1;32m     18\u001b[0m \u001b[38;5;124;03m    **kwargs: CTranslate2 Translator arguments - see https://opennmt.net/CTranslate2/python/ctranslate2.Translator.html\u001b[39;00m\n\u001b[1;32m     19\u001b[0m \u001b[38;5;124;03m\"\"\"\u001b[39;00m\n\u001b[1;32m     20\u001b[0m \u001b[38;5;28mself\u001b[39m\u001b[38;5;241m.\u001b[39mmodel_path \u001b[38;5;241m=\u001b[39m Path(model_path)\n\u001b[0;32m---> 21\u001b[0m \u001b[38;5;28mself\u001b[39m\u001b[38;5;241m.\u001b[39mtranslator \u001b[38;5;241m=\u001b[39m \u001b[43mctranslate2\u001b[49m\u001b[38;5;241;43m.\u001b[39;49m\u001b[43mTranslator\u001b[49m\u001b[43m(\u001b[49m\u001b[43mmodel_path\u001b[49m\u001b[43m,\u001b[49m\u001b[43m \u001b[49m\u001b[38;5;241;43m*\u001b[39;49m\u001b[38;5;241;43m*\u001b[39;49m\u001b[43mkwargs\u001b[49m\u001b[43m)\u001b[49m\n",
      "\u001b[0;31mRuntimeError\u001b[0m: Unable to open file 'model.bin' in model '../quickmt-models/quickmt-en-fr'"
     ]
    }
   ],
   "source": [
    "translator = Translator(\n",
    "    model_path=\"../quickmt-models/quickmt-en-fr\",\n",
    "    #model_path=\"/home/mark/Downloads/ct2-enfr/\",\n",
    "    device=\"cuda\"\n",
    ")"
   ]
  },
  {
   "cell_type": "code",
   "execution_count": null,
   "id": "62ab5a53-8954-4971-a16e-26915c6ced23",
   "metadata": {},
   "outputs": [],
   "source": [
    "%%time\n",
    "mt = translator(src, max_batch_size=64)"
   ]
  },
  {
   "cell_type": "code",
   "execution_count": null,
   "id": "2abf3f12-ac9c-421b-aac9-532de38411c0",
   "metadata": {},
   "outputs": [],
   "source": [
    "print(bleu.corpus_score(mt, [ref]))\n",
    "print(chrf.corpus_score(mt, [ref]))\n",
    "print(ter.corpus_score(mt, [ref]))"
   ]
  },
  {
   "cell_type": "code",
   "execution_count": null,
   "id": "97bddcc7-4e9b-4efa-bd7c-c1f71978d9d2",
   "metadata": {},
   "outputs": [],
   "source": [
    "with open(f\"quickmt.{tgt_lang}\", \"wt\") as myfile:\n",
    "    myfile.write(\"\".join([i+\"\\n\" for i in mt]))"
   ]
  },
  {
   "cell_type": "code",
   "execution_count": null,
   "id": "7a730621-06cf-4c6f-b4eb-12953cf9efe2",
   "metadata": {},
   "outputs": [],
   "source": [
    "! ~/miniforge3/envs/comet/bin/comet-score -s flores.{src_lang} -r flores.{tgt_lang} -t quickmt.{tgt_lang} --batch_size 32 --only_system "
   ]
  },
  {
   "cell_type": "markdown",
   "id": "e309f9ed-9a62-470c-9be6-d8923dd9e8b6",
   "metadata": {},
   "source": [
    "## OpusMT\n",
    "\n",
    "Be sure to export the models to `ctranslate2` format first, e.g.\n",
    "\n",
    "```bash\n",
    "ct2-transformers-converter --model Helsinki-NLP/opus-mt-fr-en --output_dir ../ct2-models/opus-mt-fr-en-ct2\n",
    "```\n"
   ]
  },
  {
   "cell_type": "code",
   "execution_count": null,
   "id": "e5a72561-6e4f-4201-92ea-02e21b24d6d6",
   "metadata": {},
   "outputs": [],
   "source": [
    "translator = OpusmtTranslator(\n",
    "    model_path=\"../ct2-models/opus-mt-en-fr-ct2\",\n",
    "    model_string=\"Helsinki-NLP/opus-mt-en-fr\",\n",
    "    device=\"cuda\"\n",
    ")"
   ]
  },
  {
   "cell_type": "code",
   "execution_count": null,
   "id": "c7d34ff3-dc62-40ed-a4c0-028693ea8040",
   "metadata": {},
   "outputs": [],
   "source": [
    "%%time\n",
    "mt = translator(src)"
   ]
  },
  {
   "cell_type": "code",
   "execution_count": null,
   "id": "f328ec30-d8ee-4f48-930f-6af04f8c7629",
   "metadata": {},
   "outputs": [],
   "source": [
    "print(bleu.corpus_score(mt, [ref]))\n",
    "print(chrf.corpus_score(mt, [ref]))\n",
    "print(ter.corpus_score(mt, [ref]))"
   ]
  },
  {
   "cell_type": "code",
   "execution_count": null,
   "id": "a2204c3f-de17-4295-a19d-0758b6a62608",
   "metadata": {},
   "outputs": [],
   "source": [
    "with open(f\"opusmt.{tgt_lang}\", \"wt\") as myfile:\n",
    "    myfile.write(\"\".join([i+\"\\n\" for i in mt]))"
   ]
  },
  {
   "cell_type": "code",
   "execution_count": null,
   "id": "bcb6a52e-3a8f-4acd-a363-1c7aeaeab033",
   "metadata": {},
   "outputs": [],
   "source": [
    "! ~/miniforge3/envs/comet/bin/comet-score -s flores.{src_lang} -r flores.{tgt_lang} -t opusmt.{tgt_lang} --batch_size 32 --only_system "
   ]
  },
  {
   "cell_type": "code",
   "execution_count": null,
   "id": "2319e54f-376d-4107-b3ae-5a7615424b37",
   "metadata": {},
   "outputs": [],
   "source": []
  },
  {
   "cell_type": "markdown",
   "id": "f5e47e29-c72e-4f28-9bc6-4165b7dca0fb",
   "metadata": {},
   "source": [
    "## NLLB-600M\n",
    "\n",
    "Be sure to export the models to `ctranslate2` format first, e.g.\n",
    "\n",
    "```bash\n",
    "ct2-transformers-converter --model facebook/nllb-200-distilled-600M --output_dir ../ct2-models/nllb-200-distilled-600M-ct2\n",
    "```"
   ]
  },
  {
   "cell_type": "code",
   "execution_count": 16,
   "id": "e5aded02-1c88-4d75-8c4f-d1cda735df71",
   "metadata": {},
   "outputs": [],
   "source": [
    "translator = NllbTranslator(\n",
    "    model_path=\"../ct2-models/nllb-200-distilled-600M-ct2\",\n",
    "    device=\"cuda\"\n",
    ")"
   ]
  },
  {
   "cell_type": "code",
   "execution_count": 17,
   "id": "b65c1ecd-d7a8-48b6-9ee0-747a9413b71a",
   "metadata": {},
   "outputs": [
    {
     "name": "stdout",
     "output_type": "stream",
     "text": [
      "Translation time: 27.64427614212036\n",
      "CPU times: user 31.8 s, sys: 20.7 s, total: 52.5 s\n",
      "Wall time: 27.9 s\n"
     ]
    }
   ],
   "source": [
    "%%time\n",
    "mt = translator(src, src_lang=src_lang_flores, tgt_lang=tgt_lang_flores)"
   ]
  },
  {
   "cell_type": "code",
   "execution_count": 18,
   "id": "ddf19ea9-5259-464a-b83e-568d6909f537",
   "metadata": {},
   "outputs": [
    {
     "name": "stdout",
     "output_type": "stream",
     "text": [
      "BLEU = 48.71 74.1/55.5/44.1/35.8 (BP = 0.965 ratio = 0.966 hyp_len = 27373 ref_len = 28343)\n",
      "chrF2 = 70.36\n",
      "TER = 38.87\n"
     ]
    }
   ],
   "source": [
    "print(bleu.corpus_score(mt, [ref]))\n",
    "print(chrf.corpus_score(mt, [ref]))\n",
    "print(ter.corpus_score(mt, [ref]))"
   ]
  },
  {
   "cell_type": "code",
   "execution_count": 19,
   "id": "ea20271c-abd5-4279-adc3-749644635e7b",
   "metadata": {},
   "outputs": [],
   "source": [
    "with open(f\"nllb-600m.{tgt_lang}\", \"wt\") as myfile:\n",
    "    myfile.write(\"\".join([i+\"\\n\" for i in mt]))"
   ]
  },
  {
   "cell_type": "code",
   "execution_count": 20,
   "id": "3003ac99-9ae9-49e5-85d9-11210b7d1de9",
   "metadata": {},
   "outputs": [
    {
     "name": "stderr",
     "output_type": "stream",
     "text": [
      "huggingface/tokenizers: The current process just got forked, after parallelism has already been used. Disabling parallelism to avoid deadlocks...\n",
      "To disable this warning, you can either:\n",
      "\t- Avoid using `tokenizers` before the fork if possible\n",
      "\t- Explicitly set the environment variable TOKENIZERS_PARALLELISM=(true | false)\n"
     ]
    },
    {
     "name": "stdout",
     "output_type": "stream",
     "text": [
      "Seed set to 1\n",
      "Fetching 5 files: 100%|████████████████████████| 5/5 [00:00<00:00, 19204.69it/s]\n",
      "Lightning automatically upgraded your loaded checkpoint from v1.8.3.post1 to v2.5.0.post0. To apply the upgrade to your files permanently, run `python -m pytorch_lightning.utilities.upgrade_checkpoint ../../../../../home/mark/.cache/huggingface/hub/models--Unbabel--wmt22-comet-da/snapshots/f49d328952c3470eff6bb6f545d62bfdb6e66304/checkpoints/model.ckpt`\n",
      "Encoder model frozen.\n",
      "/home/mark/miniforge3/envs/comet/lib/python3.11/site-packages/pytorch_lightning/core/saving.py:195: Found keys that are not in the model state dict but in the checkpoint: ['encoder.model.embeddings.position_ids']\n",
      "GPU available: True (cuda), used: True\n",
      "TPU available: False, using: 0 TPU cores\n",
      "HPU available: False, using: 0 HPUs\n",
      "LOCAL_RANK: 0 - CUDA_VISIBLE_DEVICES: [0]\n",
      "Predicting DataLoader 0: 100%|██████████████████| 32/32 [00:03<00:00,  8.38it/s]\n",
      "nllb-600m.fr\tscore: 0.8763\n"
     ]
    }
   ],
   "source": [
    "! ~/miniforge3/envs/comet/bin/comet-score -s flores.{src_lang} -r flores.{tgt_lang} -t nllb-600m.{tgt_lang} --batch_size 32 --only_system "
   ]
  },
  {
   "cell_type": "code",
   "execution_count": null,
   "id": "308eac41-d7b7-4b93-b753-7c1c2a6f56e4",
   "metadata": {},
   "outputs": [],
   "source": []
  },
  {
   "cell_type": "markdown",
   "id": "28072ed5-f0db-4e07-aeeb-adbe236cd6a5",
   "metadata": {},
   "source": [
    "## NLLB-1.3B\n",
    "\n",
    "Be sure to export the models to `ctranslate2` format first, e.g.\n",
    "\n",
    "```bash\n",
    "ct2-transformers-converter --model facebook/nllb-200-distilled-1.3B --output_dir ../ct2-models/nllb-200-distilled-1.3B-ct2\n",
    "```"
   ]
  },
  {
   "cell_type": "code",
   "execution_count": 21,
   "id": "e42d0d09-d5a6-49c9-b976-b441916ca173",
   "metadata": {},
   "outputs": [],
   "source": [
    "translator = NllbTranslator(\n",
    "    model_path=\"../ct2-models/nllb-200-distilled-1.3B-ct2\",\n",
    "    device=\"cuda\"\n",
    ")"
   ]
  },
  {
   "cell_type": "code",
   "execution_count": 22,
   "id": "6eba06a2-1852-40e1-9fdf-67661b907fed",
   "metadata": {},
   "outputs": [
    {
     "name": "stdout",
     "output_type": "stream",
     "text": [
      "Translation time: 47.330397844314575\n",
      "CPU times: user 37.7 s, sys: 35.2 s, total: 1min 12s\n",
      "Wall time: 47.6 s\n"
     ]
    }
   ],
   "source": [
    "%%time\n",
    "mt = translator(src, src_lang=src_lang_flores, tgt_lang=tgt_lang_flores)"
   ]
  },
  {
   "cell_type": "code",
   "execution_count": 23,
   "id": "f5174f7a-578f-4ce6-aac5-04ea0686b0a4",
   "metadata": {
    "scrolled": true
   },
   "outputs": [
    {
     "name": "stdout",
     "output_type": "stream",
     "text": [
      "BLEU = 51.10 75.7/58.0/46.8/38.4 (BP = 0.964 ratio = 0.965 hyp_len = 27354 ref_len = 28343)\n",
      "chrF2 = 71.95\n",
      "TER = 37.08\n"
     ]
    }
   ],
   "source": [
    "print(bleu.corpus_score(mt, [ref]))\n",
    "print(chrf.corpus_score(mt, [ref]))\n",
    "print(ter.corpus_score(mt, [ref]))"
   ]
  },
  {
   "cell_type": "code",
   "execution_count": 24,
   "id": "176cdc04-130f-4c12-82ae-04ed54bc22b6",
   "metadata": {},
   "outputs": [],
   "source": [
    "with open(f\"nllb-1.3b.{tgt_lang}\", \"wt\") as myfile:\n",
    "    myfile.write(\"\".join([i+\"\\n\" for i in mt]))"
   ]
  },
  {
   "cell_type": "code",
   "execution_count": 25,
   "id": "5ddc5ce4-2af7-43f0-a3a1-0bd0be747e79",
   "metadata": {},
   "outputs": [
    {
     "name": "stderr",
     "output_type": "stream",
     "text": [
      "huggingface/tokenizers: The current process just got forked, after parallelism has already been used. Disabling parallelism to avoid deadlocks...\n",
      "To disable this warning, you can either:\n",
      "\t- Avoid using `tokenizers` before the fork if possible\n",
      "\t- Explicitly set the environment variable TOKENIZERS_PARALLELISM=(true | false)\n"
     ]
    },
    {
     "name": "stdout",
     "output_type": "stream",
     "text": [
      "Seed set to 1\n",
      "Fetching 5 files: 100%|███████████████████████| 5/5 [00:00<00:00, 101803.50it/s]\n",
      "Lightning automatically upgraded your loaded checkpoint from v1.8.3.post1 to v2.5.0.post0. To apply the upgrade to your files permanently, run `python -m pytorch_lightning.utilities.upgrade_checkpoint ../../../../../home/mark/.cache/huggingface/hub/models--Unbabel--wmt22-comet-da/snapshots/f49d328952c3470eff6bb6f545d62bfdb6e66304/checkpoints/model.ckpt`\n",
      "Encoder model frozen.\n",
      "/home/mark/miniforge3/envs/comet/lib/python3.11/site-packages/pytorch_lightning/core/saving.py:195: Found keys that are not in the model state dict but in the checkpoint: ['encoder.model.embeddings.position_ids']\n",
      "GPU available: True (cuda), used: True\n",
      "TPU available: False, using: 0 TPU cores\n",
      "HPU available: False, using: 0 HPUs\n",
      "LOCAL_RANK: 0 - CUDA_VISIBLE_DEVICES: [0]\n",
      "Predicting DataLoader 0: 100%|██████████████████| 32/32 [00:03<00:00,  8.59it/s]\n",
      "nllb-1.3b.fr\tscore: 0.8850\n"
     ]
    }
   ],
   "source": [
    "! ~/miniforge3/envs/comet/bin/comet-score -s flores.{src_lang} -r flores.{tgt_lang} -t nllb-1.3b.{tgt_lang} --batch_size 32 --only_system "
   ]
  },
  {
   "cell_type": "code",
   "execution_count": null,
   "id": "217aeb14-5f2c-488a-aef4-f46224cc99e0",
   "metadata": {},
   "outputs": [],
   "source": []
  },
  {
   "cell_type": "markdown",
   "id": "96d99538-8f7b-44ea-9d16-0026c162cc3f",
   "metadata": {},
   "source": [
    "## M2M100-418M\n",
    "\n",
    "Be sure to export the models to `ctranslate2` format first, e.g.\n",
    "\n",
    "```bash\n",
    "ct2-transformers-converter --model facebook/m2m100_418M --output_dir ../ct2-models/m2m100_418-ct2/\n",
    "ct2-transformers-converter --model facebook/m2m100_1.2B --output_dir ../ct2-models/m2m100_1.2B-ct2/\n",
    "```"
   ]
  },
  {
   "cell_type": "code",
   "execution_count": 26,
   "id": "774bf94d-25a4-4988-8dbe-e6a4203e1542",
   "metadata": {},
   "outputs": [],
   "source": [
    "translator = M2m100Translator(\n",
    "    model_path=\"../ct2-models/m2m100_418-ct2/\",\n",
    "    device=\"cuda\"\n",
    ")"
   ]
  },
  {
   "cell_type": "code",
   "execution_count": 27,
   "id": "b1f71877-1238-411a-aba7-f5c0709d46c6",
   "metadata": {},
   "outputs": [
    {
     "name": "stdout",
     "output_type": "stream",
     "text": [
      "Translation time: 19.757731199264526\n",
      "CPU times: user 31.5 s, sys: 13.9 s, total: 45.4 s\n",
      "Wall time: 22.4 s\n"
     ]
    }
   ],
   "source": [
    "%%time\n",
    "mt = translator(src, src_lang=src_lang, tgt_lang=tgt_lang)"
   ]
  },
  {
   "cell_type": "code",
   "execution_count": 28,
   "id": "8a91b475-98d1-4e25-af05-f9d8a4434e48",
   "metadata": {},
   "outputs": [
    {
     "name": "stdout",
     "output_type": "stream",
     "text": [
      "BLEU = 39.52 67.7/46.3/34.0/25.5 (BP = 0.974 ratio = 0.974 hyp_len = 27614 ref_len = 28343)\n",
      "chrF2 = 64.39\n",
      "TER = 46.28\n"
     ]
    }
   ],
   "source": [
    "print(bleu.corpus_score(mt, [ref]))\n",
    "print(chrf.corpus_score(mt, [ref]))\n",
    "print(ter.corpus_score(mt, [ref]))"
   ]
  },
  {
   "cell_type": "code",
   "execution_count": 29,
   "id": "34be7063-9fdb-404c-a760-d7b4f7f3d3e6",
   "metadata": {},
   "outputs": [],
   "source": [
    "with open(f\"m2m100-418m.{tgt_lang}\", \"wt\") as myfile:\n",
    "    myfile.write(\"\".join([i+\"\\n\" for i in mt]))"
   ]
  },
  {
   "cell_type": "code",
   "execution_count": 30,
   "id": "960c228a-436e-4e91-86c4-235a4aa35b61",
   "metadata": {},
   "outputs": [
    {
     "name": "stderr",
     "output_type": "stream",
     "text": [
      "huggingface/tokenizers: The current process just got forked, after parallelism has already been used. Disabling parallelism to avoid deadlocks...\n",
      "To disable this warning, you can either:\n",
      "\t- Avoid using `tokenizers` before the fork if possible\n",
      "\t- Explicitly set the environment variable TOKENIZERS_PARALLELISM=(true | false)\n"
     ]
    },
    {
     "name": "stdout",
     "output_type": "stream",
     "text": [
      "Seed set to 1\n",
      "Fetching 5 files: 100%|█████████████████████████| 5/5 [00:00<00:00, 7479.14it/s]\n",
      "Lightning automatically upgraded your loaded checkpoint from v1.8.3.post1 to v2.5.0.post0. To apply the upgrade to your files permanently, run `python -m pytorch_lightning.utilities.upgrade_checkpoint ../../../../../home/mark/.cache/huggingface/hub/models--Unbabel--wmt22-comet-da/snapshots/f49d328952c3470eff6bb6f545d62bfdb6e66304/checkpoints/model.ckpt`\n",
      "Encoder model frozen.\n",
      "/home/mark/miniforge3/envs/comet/lib/python3.11/site-packages/pytorch_lightning/core/saving.py:195: Found keys that are not in the model state dict but in the checkpoint: ['encoder.model.embeddings.position_ids']\n",
      "GPU available: True (cuda), used: True\n",
      "TPU available: False, using: 0 TPU cores\n",
      "HPU available: False, using: 0 HPUs\n",
      "LOCAL_RANK: 0 - CUDA_VISIBLE_DEVICES: [0]\n",
      "Predicting DataLoader 0: 100%|██████████████████| 32/32 [00:03<00:00,  8.64it/s]\n",
      "m2m100-418m.fr\tscore: 0.8211\n"
     ]
    }
   ],
   "source": [
    "! ~/miniforge3/envs/comet/bin/comet-score -s flores.{src_lang} -r flores.{tgt_lang} -t m2m100-418m.{tgt_lang} --batch_size 32 --only_system "
   ]
  },
  {
   "cell_type": "code",
   "execution_count": null,
   "id": "b132a8af-5944-4481-9f4e-ba7fc48a21af",
   "metadata": {},
   "outputs": [],
   "source": []
  },
  {
   "cell_type": "markdown",
   "id": "425cff99-a65b-4df2-8e8a-b265cc148375",
   "metadata": {},
   "source": [
    "## M2M100-1.2B\n",
    "\n",
    "Be sure to export the models to `ctranslate2` format first, e.g.\n",
    "\n",
    "```bash\n",
    "ct2-transformers-converter --model facebook/m2m100_1.2B --output_dir ../ct2-models/m2m100_1.2B-ct2/\n",
    "```"
   ]
  },
  {
   "cell_type": "code",
   "execution_count": 31,
   "id": "74b74474-235d-4406-aecb-5c69f98461f7",
   "metadata": {},
   "outputs": [],
   "source": [
    "translator = M2m100Translator(\n",
    "    model_path=\"../ct2-models/m2m100_1.2B-ct2/\",\n",
    "    device=\"cuda\"\n",
    ")"
   ]
  },
  {
   "cell_type": "code",
   "execution_count": 32,
   "id": "e28d0645-3b9f-4596-926d-1e1188a86690",
   "metadata": {},
   "outputs": [
    {
     "name": "stdout",
     "output_type": "stream",
     "text": [
      "Translation time: 41.012052059173584\n",
      "CPU times: user 40.6 s, sys: 29.4 s, total: 1min 10s\n",
      "Wall time: 43.6 s\n"
     ]
    }
   ],
   "source": [
    "%%time\n",
    "mt = translator(src, src_lang=src_lang, tgt_lang=tgt_lang)"
   ]
  },
  {
   "cell_type": "code",
   "execution_count": 33,
   "id": "c1d0d7dd-dcf0-4d5d-bb45-70f0cf96ed5f",
   "metadata": {},
   "outputs": [
    {
     "name": "stdout",
     "output_type": "stream",
     "text": [
      "BLEU = 45.39 71.8/52.0/40.1/31.6 (BP = 0.973 ratio = 0.973 hyp_len = 27576 ref_len = 28343)\n",
      "chrF2 = 68.31\n",
      "TER = 41.57\n"
     ]
    }
   ],
   "source": [
    "print(bleu.corpus_score(mt, [ref]))\n",
    "print(chrf.corpus_score(mt, [ref]))\n",
    "print(ter.corpus_score(mt, [ref]))"
   ]
  },
  {
   "cell_type": "code",
   "execution_count": 34,
   "id": "fa6864f8-87a4-4437-9e8c-eba3dfaf3414",
   "metadata": {},
   "outputs": [],
   "source": [
    "with open(f\"m2m100-1.2B.{tgt_lang}\", \"wt\") as myfile:\n",
    "    myfile.write(\"\".join([i+\"\\n\" for i in mt]))"
   ]
  },
  {
   "cell_type": "code",
   "execution_count": 35,
   "id": "dd26294a-739d-4a11-8606-e0a8a79f012b",
   "metadata": {},
   "outputs": [
    {
     "name": "stderr",
     "output_type": "stream",
     "text": [
      "huggingface/tokenizers: The current process just got forked, after parallelism has already been used. Disabling parallelism to avoid deadlocks...\n",
      "To disable this warning, you can either:\n",
      "\t- Avoid using `tokenizers` before the fork if possible\n",
      "\t- Explicitly set the environment variable TOKENIZERS_PARALLELISM=(true | false)\n"
     ]
    },
    {
     "name": "stdout",
     "output_type": "stream",
     "text": [
      "Seed set to 1\n",
      "Fetching 5 files: 100%|████████████████████████| 5/5 [00:00<00:00, 88487.43it/s]\n",
      "Lightning automatically upgraded your loaded checkpoint from v1.8.3.post1 to v2.5.0.post0. To apply the upgrade to your files permanently, run `python -m pytorch_lightning.utilities.upgrade_checkpoint ../../../../../home/mark/.cache/huggingface/hub/models--Unbabel--wmt22-comet-da/snapshots/f49d328952c3470eff6bb6f545d62bfdb6e66304/checkpoints/model.ckpt`\n",
      "Encoder model frozen.\n",
      "/home/mark/miniforge3/envs/comet/lib/python3.11/site-packages/pytorch_lightning/core/saving.py:195: Found keys that are not in the model state dict but in the checkpoint: ['encoder.model.embeddings.position_ids']\n",
      "GPU available: True (cuda), used: True\n",
      "TPU available: False, using: 0 TPU cores\n",
      "HPU available: False, using: 0 HPUs\n",
      "LOCAL_RANK: 0 - CUDA_VISIBLE_DEVICES: [0]\n",
      "Predicting DataLoader 0: 100%|██████████████████| 32/32 [00:03<00:00,  8.58it/s]\n",
      "m2m100-1.2B.fr\tscore: 0.8650\n"
     ]
    }
   ],
   "source": [
    "! ~/miniforge3/envs/comet/bin/comet-score -s flores.{src_lang} -r flores.{tgt_lang} -t m2m100-1.2B.{tgt_lang} --batch_size 32 --only_system "
   ]
  },
  {
   "cell_type": "markdown",
   "id": "4a1a6552-5f8e-4799-a509-813e07be0e6b",
   "metadata": {},
   "source": [
    "## en->fr Results"
   ]
  },
  {
   "cell_type": "markdown",
   "id": "b628124b-dfdb-44ca-aba0-0050192b4603",
   "metadata": {},
   "source": [
    "| Model                            | chrf2 | bleu    | comet22 | Time (s) |\n",
    "| -------------------------------- | ----- | ------- | ------- | -------- |\n",
    "| quickmt/quickmt-fr-en            | 70.75 | 49.18   | 86.70   |  1.69    |\n",
    "| Helsinki-NLP/opus-mt-en-zh       | 69.98 | 47.97   | 86.29   |  4.13    |\n",
    "| facebook/m2m100_418M             | 63.29 | 39.52   | 82.11   | 22.4     |\n",
    "| facebook/m2m100_1.2B             | 68.31 | 45.39   | 86.50   | 44.0     |\n",
    "| facebook/nllb-200-distilled-600M | 70.36 | 48.71   | 87.63   | 27.8     |\n",
    "| facebook/nllb-200-distilled-1.3B | 71.95 | 51.10   | 88.50   | 47.8     |\n",
    "\n"
   ]
  }
 ],
 "metadata": {
  "kernelspec": {
   "display_name": "Python 3 (ipykernel)",
   "language": "python",
   "name": "python3"
  },
  "language_info": {
   "codemirror_mode": {
    "name": "ipython",
    "version": 3
   },
   "file_extension": ".py",
   "mimetype": "text/x-python",
   "name": "python",
   "nbconvert_exporter": "python",
   "pygments_lexer": "ipython3",
   "version": "3.12.8"
  }
 },
 "nbformat": 4,
 "nbformat_minor": 5
}
